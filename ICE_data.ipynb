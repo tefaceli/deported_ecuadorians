{
 "cells": [
  {
   "cell_type": "markdown",
   "id": "0f122fb4-f392-4102-b571-e9cbf9bbaca6",
   "metadata": {},
   "source": [
    "# ICE operations on Ecuadorians\n",
    "\n",
    "This notebook will do an analysis of ICE data on operations, focusing on Ecuadorians. Data obtained from the [Deportation Data Project](https://deportationdata.org/), by the University of Washington Center for Human Rights. Codebook available [here](https://deportationdata.org/docs/ice.html)."
   ]
  },
  {
   "cell_type": "code",
   "execution_count": 1,
   "id": "bb1e0b49-81ff-4433-968d-04fff5894c54",
   "metadata": {},
   "outputs": [],
   "source": [
    "import pandas as pd\n",
    "import datetime as dt\n",
    "import matplotlib.pyplot as plt\n",
    "import numpy as np"
   ]
  },
  {
   "cell_type": "code",
   "execution_count": 2,
   "id": "b70997de-576a-4002-9bee-41563ef8bbb3",
   "metadata": {},
   "outputs": [],
   "source": [
    "arrests = pd.read_excel(\"data/2025-ICLI-00019_2024-ICFO-39357_ERO Admin Arrests_raw.xlsx\", skiprows=6)\n",
    "deportations = pd.read_excel(\"data/2025-ICLI-00019_2024-ICFO-39357_ICE Removals_2025_only.xlsx\", skiprows=6)"
   ]
  },
  {
   "cell_type": "code",
   "execution_count": 3,
   "id": "bf6e7e7d-65d9-4f78-b0d5-64baafc36acc",
   "metadata": {},
   "outputs": [],
   "source": [
    "pd.set_option('display.max_rows', None)"
   ]
  },
  {
   "cell_type": "markdown",
   "id": "68ec7593-da65-4f75-a203-0b446c8852be",
   "metadata": {},
   "source": [
    "## Arrests\n",
    "\n",
    "Records every time ICE arrests someone, whether or not that arrest results in a decision to detain the person; or issues a Notice to Appear (NTA), the document that starts a deportation case. Note that other agencies also issue NTAs, and those would not appear as arrests in this table. We treat \"apprehensions,\" \"arrests,\" and \"administrative arrests\" as synonyms.\n",
    "\n",
    "Data since 2023. "
   ]
  },
  {
   "cell_type": "code",
   "execution_count": 4,
   "id": "3917eba4-3e9a-4f01-a20e-3f17ac9a712e",
   "metadata": {},
   "outputs": [
    {
     "name": "stdout",
     "output_type": "stream",
     "text": [
      "<class 'pandas.core.frame.DataFrame'>\n",
      "RangeIndex: 265226 entries, 0 to 265225\n",
      "Data columns (total 23 columns):\n",
      " #   Column                      Non-Null Count   Dtype         \n",
      "---  ------                      --------------   -----         \n",
      " 0   Apprehension Date           265226 non-null  datetime64[ns]\n",
      " 1   Apprehension State          208983 non-null  object        \n",
      " 2   Apprehension County         0 non-null       float64       \n",
      " 3   Apprehension AOR            259323 non-null  object        \n",
      " 4   Final Program               265226 non-null  object        \n",
      " 5   Final Program Group         265226 non-null  object        \n",
      " 6   Apprehension Method         265226 non-null  object        \n",
      " 7   Apprehension Criminality    265226 non-null  object        \n",
      " 8   Case Status                 261328 non-null  object        \n",
      " 9   Case Category               261328 non-null  object        \n",
      " 10  Departed Date               145317 non-null  datetime64[ns]\n",
      " 11  Departure Country           145279 non-null  object        \n",
      " 12  Final Order Yes No          261328 non-null  object        \n",
      " 13  Final Order Date            160289 non-null  datetime64[ns]\n",
      " 14  Birth Date                  265226 non-null  object        \n",
      " 15  Birth Year                  265226 non-null  int64         \n",
      " 16  Citizenship Country         265226 non-null  object        \n",
      " 17  Gender                      265226 non-null  object        \n",
      " 18  Apprehension Site Landmark  259126 non-null  object        \n",
      " 19  Alien File Number           263203 non-null  object        \n",
      " 20  EID Case ID                 261328 non-null  object        \n",
      " 21  EID Subject ID              265226 non-null  object        \n",
      " 22  Unique Identifier           263203 non-null  object        \n",
      "dtypes: datetime64[ns](3), float64(1), int64(1), object(18)\n",
      "memory usage: 46.5+ MB\n"
     ]
    }
   ],
   "source": [
    "arrests.info()"
   ]
  },
  {
   "cell_type": "code",
   "execution_count": 5,
   "id": "383e0b44-4cb9-4892-b1b7-163691ef5ad0",
   "metadata": {},
   "outputs": [
    {
     "data": {
      "text/plain": [
       "Apprehension Date\n",
       "2025    116378\n",
       "2024    109698\n",
       "2023     39150\n",
       "Name: count, dtype: int64"
      ]
     },
     "execution_count": 5,
     "metadata": {},
     "output_type": "execute_result"
    }
   ],
   "source": [
    "arrests[\"Apprehension Date\"].dt.year.value_counts()"
   ]
  },
  {
   "cell_type": "code",
   "execution_count": 6,
   "id": "5376f846-5287-42a4-b266-71dcb067d15f",
   "metadata": {},
   "outputs": [
    {
     "data": {
      "text/plain": [
       "'2023-09-01'"
      ]
     },
     "execution_count": 6,
     "metadata": {},
     "output_type": "execute_result"
    }
   ],
   "source": [
    "#First arrest in data\n",
    "arrests[\"Apprehension Date\"].dt.date.min().isoformat()"
   ]
  },
  {
   "cell_type": "code",
   "execution_count": 7,
   "id": "eee853dc-de8a-4365-bce7-ff2afaa62650",
   "metadata": {},
   "outputs": [
    {
     "data": {
      "text/plain": [
       "'2025-06-27'"
      ]
     },
     "execution_count": 7,
     "metadata": {},
     "output_type": "execute_result"
    }
   ],
   "source": [
    "#Last arrest in data\n",
    "arrests[\"Apprehension Date\"].dt.date.max().isoformat()"
   ]
  },
  {
   "cell_type": "code",
   "execution_count": 8,
   "id": "53139031-fd77-4154-a6e8-f7a757adebdb",
   "metadata": {},
   "outputs": [
    {
     "data": {
      "text/plain": [
       "Citizenship Country\n",
       "MEXICO                41795\n",
       "GUATEMALA             15634\n",
       "HONDURAS              12881\n",
       "VENEZUELA              7983\n",
       "EL SALVADOR            5368\n",
       "NICARAGUA              3811\n",
       "COLOMBIA               3548\n",
       "ECUADOR                2963\n",
       "CUBA                   2835\n",
       "DOMINICAN REPUBLIC     1834\n",
       "Name: count, dtype: int64"
      ]
     },
     "execution_count": 8,
     "metadata": {},
     "output_type": "execute_result"
    }
   ],
   "source": [
    "#Since Trump\n",
    "arrests[arrests[\"Apprehension Date\"] >= \"2025-01-20\"][\"Citizenship Country\"].value_counts().head(10)"
   ]
  },
  {
   "cell_type": "code",
   "execution_count": 9,
   "id": "062e123f-f56e-4eec-9c07-75e3df2b4206",
   "metadata": {},
   "outputs": [
    {
     "data": {
      "text/plain": [
       "Citizenship Country\n",
       "MEXICO                59241\n",
       "GUATEMALA             17004\n",
       "HONDURAS              16747\n",
       "NICARAGUA             10877\n",
       "VENEZUELA              7255\n",
       "EL SALVADOR            6673\n",
       "COLOMBIA               6395\n",
       "ECUADOR                6376\n",
       "CUBA                   3370\n",
       "DOMINICAN REPUBLIC     3231\n",
       "Name: count, dtype: int64"
      ]
     },
     "execution_count": 9,
     "metadata": {},
     "output_type": "execute_result"
    }
   ],
   "source": [
    "#Before Trump\n",
    "arrests[arrests[\"Apprehension Date\"] < \"2025-01-20\"][\"Citizenship Country\"].value_counts().head(10)"
   ]
  },
  {
   "cell_type": "code",
   "execution_count": 10,
   "id": "b985bde0-5c7c-46f8-b251-dd28c1946f80",
   "metadata": {},
   "outputs": [],
   "source": [
    "# Rolling average of daily arrests - all nationalities\n",
    "daily_arrests = arrests[\"Apprehension Date\"].dt.date.value_counts()\n",
    "daily_arrests = pd.DataFrame(daily_arrests).reset_index()\n",
    "daily_arrests[\"Apprehension Date\"] = pd.to_datetime(daily_arrests[\"Apprehension Date\"])\n",
    "daily_arrests = daily_arrests.sort_values(by=\"Apprehension Date\")\n",
    "\n",
    "daily_arrests[\"7_day_rolling_avg\"] = daily_arrests[\"count\"].rolling(window=7).mean()\n",
    "daily_arrests.index = daily_arrests[\"Apprehension Date\"]"
   ]
  },
  {
   "cell_type": "code",
   "execution_count": 11,
   "id": "55a450bb-8f4c-4871-982a-b085a91757a6",
   "metadata": {},
   "outputs": [
    {
     "data": {
      "text/plain": [
       "[<matplotlib.lines.Line2D at 0x121c801a0>]"
      ]
     },
     "execution_count": 11,
     "metadata": {},
     "output_type": "execute_result"
    },
    {
     "data": {
      "image/png": "[encoded data removed]",
      "text/plain": [
       "<Figure size 640x480 with 1 Axes>"
      ]
     },
     "metadata": {},
     "output_type": "display_data"
    }
   ],
   "source": [
    "plt.plot(daily_arrests[\"count\"].rolling(7).mean(),label= \"7 days\")"
   ]
  },
  {
   "cell_type": "code",
   "execution_count": 12,
   "id": "c83a3784-49b1-406a-81f8-f62b7ea29187",
   "metadata": {},
   "outputs": [
    {
     "data": {
      "text/plain": [
       "21.855263157894736"
      ]
     },
     "execution_count": 12,
     "metadata": {},
     "output_type": "execute_result"
    }
   ],
   "source": [
    "arrests_ny = arrests[\n",
    "    (arrests[\"Apprehension State\"] == \"NEW YORK\") & \n",
    "    (arrests[\"Apprehension Date\"] >= \"2025-01-20\")\n",
    "][\"Apprehension Date\"].dt.date.value_counts()\n",
    "\n",
    "arrests_ny.mean()"
   ]
  },
  {
   "cell_type": "code",
   "execution_count": 13,
   "id": "f4c60270-2bb8-437f-974b-660cf8eabcd9",
   "metadata": {},
   "outputs": [
    {
     "data": {
      "text/plain": [
       "6.171875"
      ]
     },
     "execution_count": 13,
     "metadata": {},
     "output_type": "execute_result"
    }
   ],
   "source": [
    "arrests_ny_ec = arrests[\n",
    "    (arrests[\"Apprehension State\"] == \"NEW YORK\") & \n",
    "    (arrests[\"Apprehension Date\"] >= \"2025-01-20\") &\n",
    "    (arrests[\"Citizenship Country\"] == \"ECUADOR\")\n",
    "][\"Apprehension Date\"].dt.date.value_counts()\n",
    "\n",
    "arrests_ny_ec.mean()"
   ]
  },
  {
   "cell_type": "code",
   "execution_count": 14,
   "id": "2a53a9f4-98c7-4d49-bad1-2cfca84fb373",
   "metadata": {},
   "outputs": [],
   "source": [
    "# Rolling average of daily arrests - all nationalities\n",
    "daily_arrests_ecu = arrests[arrests[\"Citizenship Country\"] == \"ECUADOR\"][\"Apprehension Date\"].dt.date.value_counts()\n",
    "daily_arrests_ecu = pd.DataFrame(daily_arrests_ecu).reset_index()\n",
    "daily_arrests_ecu[\"Apprehension Date\"] = pd.to_datetime(daily_arrests_ecu[\"Apprehension Date\"])\n",
    "daily_arrests_ecu = daily_arrests_ecu.sort_values(by=\"Apprehension Date\")\n",
    "\n",
    "daily_arrests_ecu[\"7_day_rolling_avg\"] = daily_arrests_ecu[\"count\"].rolling(window=7).mean()\n",
    "daily_arrests_ecu.index = pd.to_datetime(daily_arrests_ecu[\"Apprehension Date\"])"
   ]
  },
  {
   "cell_type": "code",
   "execution_count": 15,
   "id": "ecadf759-a245-44d5-a9c0-4a04af1b00c7",
   "metadata": {},
   "outputs": [
    {
     "data": {
      "text/plain": [
       "[<matplotlib.lines.Line2D at 0x1737a9520>]"
      ]
     },
     "execution_count": 15,
     "metadata": {},
     "output_type": "execute_result"
    },
    {
     "data": {
      "image/png": "[encoded data removed]",
      "text/plain": [
       "<Figure size 640x480 with 1 Axes>"
      ]
     },
     "metadata": {},
     "output_type": "display_data"
    }
   ],
   "source": [
    "plt.plot(daily_arrests_ecu[\"count\"].rolling(7).mean(),label= \"7 days\")"
   ]
  },
  {
   "cell_type": "code",
   "execution_count": 16,
   "id": "96f7e107-30a4-49bd-905f-104d538510f2",
   "metadata": {},
   "outputs": [],
   "source": [
    "#For RAWgraphs\n",
    "avg_all = daily_arrests.copy()\n",
    "avg_all[\"7_day_avg\"] = avg_all[\"count\"].rolling(7).mean()\n",
    "avg_all[\"Apprehension Date\"] = pd.to_datetime(avg_all[\"Apprehension Date\"])\n",
    "avg_all = avg_all[[\"Apprehension Date\", \"7_day_avg\"]]\n",
    "avg_all.to_csv(\"processed_data/arrests_7_day_avg_all.csv\", index=False)\n",
    "####\n",
    "avg_ecu = daily_arrests_ecu.copy()\n",
    "avg_ecu[\"7_day_avg\"] = avg_ecu[\"count\"].rolling(7).mean()\n",
    "avg_ecu[\"Apprehension Date\"] = pd.to_datetime(avg_ecu[\"Apprehension Date\"])\n",
    "avg_ecu = avg_ecu[[\"Apprehension Date\", \"7_day_avg\"]]\n",
    "avg_ecu.to_csv(\"processed_data/arrests_7_day_ecu.csv\", index=False)"
   ]
  },
  {
   "cell_type": "code",
   "execution_count": 17,
   "id": "ad8ab642-28cc-48ac-b4fb-3fbfefb234fc",
   "metadata": {},
   "outputs": [
    {
     "name": "stdout",
     "output_type": "stream",
     "text": [
      "Apprehension State              Citizenship Country            \n",
      "ALABAMA                         MEXICO                               798\n",
      "ALASKA                          MEXICO                                17\n",
      "ARIZONA                         MEXICO                              1932\n",
      "ARKANSAS                        MEXICO                               653\n",
      "ARMED FORCES - EUROPE           MEXICO                                 1\n",
      "ARMED FORCES - THE AMERICAS     MEXICO                                24\n",
      "ARMED SERVICES - PACIFIC        VENEZUELA                              1\n",
      "CALIFORNIA                      MEXICO                              3589\n",
      "COLORADO                        MEXICO                               698\n",
      "CONNECTICUT                     ECUADOR                               76\n",
      "DELAWARE                        GUATEMALA                            102\n",
      "DISTRICT OF COLUMBIA            HONDURAS                              13\n",
      "FEDERATED STATES OF MICRONESIA  HONDURAS                               2\n",
      "FLORIDA                         GUATEMALA                           2458\n",
      "GEORGIA                         MEXICO                              1459\n",
      "GUAM                            MICRONESIA, FEDERATED STATES OF       17\n",
      "HAWAII                          HONDURAS                              22\n",
      "IDAHO                           MEXICO                               228\n",
      "ILLINOIS                        MEXICO                               464\n",
      "INDIANA                         MEXICO                               571\n",
      "IOWA                            MEXICO                               206\n",
      "KANSAS                          MEXICO                               382\n",
      "KENTUCKY                        MEXICO                               475\n",
      "LOUISIANA                       HONDURAS                             768\n",
      "MAINE                           ANGOLA                                27\n",
      "MARYLAND                        GUATEMALA                            388\n",
      "MASSACHUSETTS                   BRAZIL                               669\n",
      "MEXICO                          MEXICO                                 1\n",
      "MICHIGAN                        MEXICO                               435\n",
      "MINNESOTA                       MEXICO                               312\n",
      "MISSISSIPPI                     MEXICO                               502\n",
      "MISSOURI                        MEXICO                               336\n",
      "MONTANA                         MEXICO                                17\n",
      "NEBRASKA                        MEXICO                               247\n",
      "NEVADA                          MEXICO                               669\n",
      "NEW HAMPSHIRE                   MEXICO                                31\n",
      "NEW JERSEY                      ECUADOR                              382\n",
      "NEW MEXICO                      MEXICO                               280\n",
      "NEW YORK                        ECUADOR                              790\n",
      "NORTH CAROLINA                  MEXICO                               837\n",
      "NORTH DAKOTA                    MEXICO                                23\n",
      "NORTHERN MARIANA ISLANDS        CHINA, PEOPLES REPUBLIC OF            23\n",
      "OHIO                            MEXICO                               389\n",
      "OKLAHOMA                        MEXICO                               820\n",
      "OREGON                          MEXICO                                88\n",
      "PENNSYLVANIA                    MEXICO                               448\n",
      "PUERTO RICO                     DOMINICAN REPUBLIC                   247\n",
      "RHODE ISLAND                    GUATEMALA                            117\n",
      "SOUTH CAROLINA                  MEXICO                               710\n",
      "SOUTH DAKOTA                    MEXICO                                38\n",
      "TAMAULIPAS                      MEXICO                                 1\n",
      "TENNESSEE                       MEXICO                               955\n",
      "TEXAS                           MEXICO                             10738\n",
      "UTAH                            MEXICO                               771\n",
      "VERMONT                         ECUADOR                                6\n",
      "VIRGIN ISLANDS                  DOMINICAN REPUBLIC                    28\n",
      "VIRGINIA                        HONDURAS                             525\n",
      "WASHINGTON                      MEXICO                               376\n",
      "WEST VIRGINIA                   MEXICO                               147\n",
      "WISCONSIN                       MEXICO                               223\n",
      "WYOMING                         MEXICO                               110\n",
      "Name: count, dtype: int64\n"
     ]
    }
   ],
   "source": [
    "states = arrests[arrests[\"Apprehension Date\"] >= \"2025-01-20\"].groupby(\"Apprehension State\")[\"Citizenship Country\"].value_counts().groupby(level=0).head(1)\n",
    "print(states)"
   ]
  },
  {
   "cell_type": "code",
   "execution_count": 18,
   "id": "df670fe5-732c-4230-b53a-baf7dfaa82a4",
   "metadata": {},
   "outputs": [
    {
     "data": {
      "text/plain": [
       "2963"
      ]
     },
     "execution_count": 18,
     "metadata": {},
     "output_type": "execute_result"
    }
   ],
   "source": [
    "arrestsecu_trump = arrests[(arrests[\"Apprehension Date\"] >= \"2025-01-20\") & (arrests[\"Citizenship Country\"] == \"ECUADOR\")]\n",
    "len(arrestsecu_trump)"
   ]
  },
  {
   "cell_type": "code",
   "execution_count": 19,
   "id": "e3d84452-9cda-4e01-ad7f-33da77060252",
   "metadata": {},
   "outputs": [
    {
     "data": {
      "text/plain": [
       "Apprehension State\n",
       "NEW YORK         790\n",
       "NEW JERSEY       382\n",
       "MASSACHUSETTS    308\n",
       "MINNESOTA        191\n",
       "PENNSYLVANIA     133\n",
       "Name: count, dtype: int64"
      ]
     },
     "execution_count": 19,
     "metadata": {},
     "output_type": "execute_result"
    }
   ],
   "source": [
    "arrestsecu_trump[\"Apprehension State\"].value_counts().head()"
   ]
  },
  {
   "cell_type": "code",
   "execution_count": 20,
   "id": "0c4cf738-fef2-492d-a323-75b43ac80e5b",
   "metadata": {},
   "outputs": [
    {
     "data": {
      "text/plain": [
       "Apprehension Date\n",
       "2025-06-04    95\n",
       "2025-06-03    88\n",
       "2025-05-28    65\n",
       "2025-06-05    54\n",
       "2025-05-29    51\n",
       "Name: count, dtype: int64"
      ]
     },
     "execution_count": 20,
     "metadata": {},
     "output_type": "execute_result"
    }
   ],
   "source": [
    "arrestsecu_trump[\"Apprehension Date\"].dt.date.value_counts().head()"
   ]
  },
  {
   "cell_type": "code",
   "execution_count": 21,
   "id": "0e565cd2-6f66-453c-af84-e3c729fb3a0c",
   "metadata": {},
   "outputs": [
    {
     "data": {
      "text/plain": [
       "Apprehension Site Landmark\n",
       "NDD - 26 FEDERAL PLAZA NY, NY     32\n",
       "ERIE COUNTY                        5\n",
       "FUGITIVE OPERATIONS NY STATE       5\n",
       "FUGITIVE OPERATIONS NY State       4\n",
       "ATD NY STATE                       2\n",
       "CIP GENERAL AREA, NON-SPECIFIC     2\n",
       "SARATOGA COUNTY                    2\n",
       "ONONDAGA COUNTY                    1\n",
       "ALBANY COUNTY                      1\n",
       "Name: count, dtype: int64"
      ]
     },
     "execution_count": 21,
     "metadata": {},
     "output_type": "execute_result"
    }
   ],
   "source": [
    "arrestsecu_trump[(arrestsecu_trump[\"Apprehension Date\"].dt.date == dt.date(2025, 6, 4)) & (arrestsecu_trump[\"Apprehension State\"] == \"NEW YORK\")][\"Apprehension Site Landmark\"].value_counts()"
   ]
  },
  {
   "cell_type": "code",
   "execution_count": 22,
   "id": "3a26293a-64b2-413d-8a6f-51ae53aa4cc0",
   "metadata": {},
   "outputs": [
    {
     "data": {
      "text/plain": [
       "Apprehension Site Landmark\n",
       "NDD - 26 FEDERAL PLAZA NY, NY     0.382278\n",
       "ERIE COUNTY                       0.135443\n",
       "FUGITIVE OPERATIONS NY STATE      0.082278\n",
       "NBG GENERAL AREA, NON-SPECIFIC    0.075949\n",
       "MONROE COUNTY                     0.069620\n",
       "Name: proportion, dtype: float64"
      ]
     },
     "execution_count": 22,
     "metadata": {},
     "output_type": "execute_result"
    }
   ],
   "source": [
    "arrestsecu_trump[arrestsecu_trump[\"Apprehension State\"] == \"NEW YORK\"][\"Apprehension Site Landmark\"].value_counts(normalize=True).head()"
   ]
  },
  {
   "cell_type": "code",
   "execution_count": 23,
   "id": "a29f4ed4-5b33-427c-8b71-4f3e74fc4a2b",
   "metadata": {},
   "outputs": [
    {
     "data": {
      "text/plain": [
       "Apprehension Method\n",
       "Non-Custodial Arrest                    1438\n",
       "Located                                  623\n",
       "CAP Local Incarceration                  515\n",
       "Other efforts                            135\n",
       "CAP Federal Incarceration                125\n",
       "Probation and Parole                      27\n",
       "CAP State Incarceration                   23\n",
       "ERO Reprocessed Arrest                    22\n",
       "287(g) Program                            17\n",
       "Law Enforcement Agency Response Unit      13\n",
       "Worksite Enforcement                      10\n",
       "Other Task Force                           8\n",
       "Other Agency (turned over to INS)          3\n",
       "Patrol Interior                            2\n",
       "Transportation Check Bus                   1\n",
       "Inspections                                1\n",
       "Name: count, dtype: int64"
      ]
     },
     "execution_count": 23,
     "metadata": {},
     "output_type": "execute_result"
    }
   ],
   "source": [
    "arrestsecu_trump[\"Apprehension Method\"].value_counts()"
   ]
  },
  {
   "cell_type": "markdown",
   "id": "1f0abe93-19e8-4ae4-9e53-9223d7134974",
   "metadata": {},
   "source": [
    "## Deportations"
   ]
  },
  {
   "cell_type": "code",
   "execution_count": 24,
   "id": "e183bbc7-e7ea-439a-9bbb-b725ddf305a4",
   "metadata": {},
   "outputs": [
    {
     "name": "stdout",
     "output_type": "stream",
     "text": [
      "<class 'pandas.core.frame.DataFrame'>\n",
      "RangeIndex: 144176 entries, 0 to 144175\n",
      "Data columns (total 39 columns):\n",
      " #   Column                              Non-Null Count   Dtype         \n",
      "---  ------                              --------------   -----         \n",
      " 0   Departed Date                       144176 non-null  datetime64[ns]\n",
      " 1   Port of Departure                   144176 non-null  object        \n",
      " 2   Departure Country                   144176 non-null  object        \n",
      " 3   Docket AOR                          144176 non-null  object        \n",
      " 4   Apprehension State                  34198 non-null   object        \n",
      " 5   Apprehension County                 0 non-null       float64       \n",
      " 6   Case Status                         144176 non-null  object        \n",
      " 7   Gender                              144176 non-null  object        \n",
      " 8   Birth Country                       144176 non-null  object        \n",
      " 9   Citizenship Country                 144176 non-null  object        \n",
      " 10  Birth Date                          144176 non-null  object        \n",
      " 11  Birth Year                          144176 non-null  int64         \n",
      " 12  Entry Status                        141189 non-null  object        \n",
      " 13  Entry Date                          109504 non-null  object        \n",
      " 14  MSC NCIC Charge Code                47913 non-null   object        \n",
      " 15  MSC Charge Date                     46847 non-null   object        \n",
      " 16  MSC Criminal Charge Status          47913 non-null   object        \n",
      " 17  MSC Criminal Charge Status Code     47913 non-null   object        \n",
      " 18  MSC Conviction Date                 47913 non-null   object        \n",
      " 19  Case Threat Level                   47906 non-null   float64       \n",
      " 20  Case Criminality                    144176 non-null  object        \n",
      " 21  Felon                               73161 non-null   object        \n",
      " 22  Processing Disposition              144156 non-null  object        \n",
      " 23  Case Category                       144176 non-null  object        \n",
      " 24  Final Program                       144176 non-null  object        \n",
      " 25  Final Program Code                  144176 non-null  object        \n",
      " 26  Case Category Time of Arrest        42609 non-null   object        \n",
      " 27  Latest Arrest Program Current       97752 non-null   object        \n",
      " 28  Latest Arrest Program Current Code  97752 non-null   object        \n",
      " 29  Latest Person Apprehension Date     144013 non-null  datetime64[ns]\n",
      " 30  Final Order Yes No                  144176 non-null  object        \n",
      " 31  Final Order Date                    137378 non-null  datetime64[ns]\n",
      " 32  Final Charge Code                   144123 non-null  object        \n",
      " 33  Final Charge Section Code           144123 non-null  object        \n",
      " 34  Prior Deport Yes No                 144176 non-null  object        \n",
      " 35  Alien File Number                   143870 non-null  object        \n",
      " 36  EID Case ID                         144176 non-null  object        \n",
      " 37  EID Subject ID                      144176 non-null  object        \n",
      " 38  Unique Identifier                   143870 non-null  object        \n",
      "dtypes: datetime64[ns](3), float64(2), int64(1), object(33)\n",
      "memory usage: 42.9+ MB\n"
     ]
    }
   ],
   "source": [
    "deportations.info()"
   ]
  },
  {
   "cell_type": "code",
   "execution_count": 25,
   "id": "d6a64cff-734f-4fcf-b2c4-33f8f816d487",
   "metadata": {},
   "outputs": [
    {
     "data": {
      "text/plain": [
       "Departed Date\n",
       "2025    144176\n",
       "Name: count, dtype: int64"
      ]
     },
     "execution_count": 25,
     "metadata": {},
     "output_type": "execute_result"
    }
   ],
   "source": [
    "deportations[\"Departed Date\"].dt.year.value_counts()"
   ]
  },
  {
   "cell_type": "code",
   "execution_count": 26,
   "id": "de29bc3e-e69c-408c-8353-cc85b2aa94c7",
   "metadata": {},
   "outputs": [
    {
     "data": {
      "text/plain": [
       "'2025-01-01'"
      ]
     },
     "execution_count": 26,
     "metadata": {},
     "output_type": "execute_result"
    }
   ],
   "source": [
    "deportations[\"Departed Date\"].dt.date.min().isoformat()"
   ]
  },
  {
   "cell_type": "code",
   "execution_count": 27,
   "id": "7908826d-dc9e-4128-a9fd-6392f89d8396",
   "metadata": {},
   "outputs": [
    {
     "data": {
      "text/plain": [
       "'2025-06-26'"
      ]
     },
     "execution_count": 27,
     "metadata": {},
     "output_type": "execute_result"
    }
   ],
   "source": [
    "deportations[\"Departed Date\"].dt.date.max().isoformat()"
   ]
  },
  {
   "cell_type": "code",
   "execution_count": 28,
   "id": "16ce2dba-cd96-4926-a987-0ba6cd7d3058",
   "metadata": {},
   "outputs": [
    {
     "data": {
      "text/plain": [
       "Birth Country\n",
       "MEXICO                58353\n",
       "GUATEMALA             16410\n",
       "HONDURAS              12446\n",
       "VENEZUELA              7142\n",
       "EL SALVADOR            5129\n",
       "COLOMBIA               4370\n",
       "ECUADOR                3778\n",
       "NICARAGUA              2503\n",
       "DOMINICAN REPUBLIC     2131\n",
       "BRAZIL                 1651\n",
       "Name: count, dtype: int64"
      ]
     },
     "execution_count": 28,
     "metadata": {},
     "output_type": "execute_result"
    }
   ],
   "source": [
    "deportations[deportations[\"Departed Date\"] >= \"2025-01-20\"][\"Birth Country\"].value_counts().head(10)"
   ]
  },
  {
   "cell_type": "code",
   "execution_count": 29,
   "id": "b120c6dc-a7ed-4194-9a88-ac7d5b720248",
   "metadata": {},
   "outputs": [
    {
     "data": {
      "text/plain": [
       "3768"
      ]
     },
     "execution_count": 29,
     "metadata": {},
     "output_type": "execute_result"
    }
   ],
   "source": [
    "deportationsecu_trump = deportations[\n",
    "    (deportations[\"Citizenship Country\"] == \"ECUADOR\") & \n",
    "    (deportations[\"Departed Date\"] >= \"2025-01-20\")\n",
    "].reset_index()\n",
    "len(deportationsecu_trump)"
   ]
  },
  {
   "cell_type": "code",
   "execution_count": 30,
   "id": "f264267a-6c54-4f95-981f-b8f8e691412d",
   "metadata": {},
   "outputs": [
    {
     "data": {
      "text/plain": [
       "Case Criminality\n",
       "3 Other Immigration Violator    2592\n",
       "1 Convicted Criminal             600\n",
       "2 Pending Criminal Charges       576\n",
       "Name: count, dtype: int64"
      ]
     },
     "execution_count": 30,
     "metadata": {},
     "output_type": "execute_result"
    }
   ],
   "source": [
    "deportationsecu_trump[\"Case Criminality\"].value_counts()"
   ]
  },
  {
   "cell_type": "code",
   "execution_count": 31,
   "id": "25188828-60a1-4c23-b956-18295df202b9",
   "metadata": {},
   "outputs": [
    {
     "data": {
      "text/plain": [
       "Gender\n",
       "Male       2763\n",
       "Female     1003\n",
       "Unknown       2\n",
       "Name: count, dtype: int64"
      ]
     },
     "execution_count": 31,
     "metadata": {},
     "output_type": "execute_result"
    }
   ],
   "source": [
    "deportationsecu_trump[\"Gender\"].value_counts()"
   ]
  },
  {
   "cell_type": "code",
   "execution_count": 32,
   "id": "e2fa7c9d-8d15-474a-b8e6-99f62a551c0a",
   "metadata": {},
   "outputs": [
    {
     "data": {
      "text/plain": [
       "Birth Year\n",
       "2001    164\n",
       "1999    155\n",
       "1996    152\n",
       "1998    149\n",
       "1993    144\n",
       "Name: count, dtype: int64"
      ]
     },
     "execution_count": 32,
     "metadata": {},
     "output_type": "execute_result"
    }
   ],
   "source": [
    "deportationsecu_trump[\"Birth Year\"].value_counts().head()"
   ]
  },
  {
   "cell_type": "code",
   "execution_count": 33,
   "id": "ef781a84-23ba-4ac4-93e0-a48e4bcbe5ec",
   "metadata": {},
   "outputs": [
    {
     "data": {
      "text/plain": [
       "<Axes: >"
      ]
     },
     "execution_count": 33,
     "metadata": {},
     "output_type": "execute_result"
    },
    {
     "data": {
      "image/png": "[encoded data removed]",
      "text/plain": [
       "<Figure size 640x480 with 1 Axes>"
      ]
     },
     "metadata": {},
     "output_type": "display_data"
    }
   ],
   "source": [
    "# age is not going to be exact since we don't have the birthdate\n",
    "deportationsecu_trump[\"age\"] = 2025 - deportationsecu_trump[\"Birth Year\"]\n",
    "deportationsecu_trump[\"age\"].hist()"
   ]
  },
  {
   "cell_type": "code",
   "execution_count": 34,
   "id": "066f8eca-caa8-4a61-bc2c-387345e7a04c",
   "metadata": {},
   "outputs": [
    {
     "data": {
      "text/plain": [
       "age_group\n",
       "21-30    1372\n",
       "31-40    1191\n",
       "41-50     596\n",
       "11-20     278\n",
       "<10       157\n",
       "51-60     148\n",
       "61-70      26\n",
       "Name: count, dtype: int64"
      ]
     },
     "execution_count": 34,
     "metadata": {},
     "output_type": "execute_result"
    }
   ],
   "source": [
    "conditions = [\n",
    "    deportationsecu_trump[\"age\"] <= 10,\n",
    "    deportationsecu_trump[\"age\"] <= 20,\n",
    "    deportationsecu_trump[\"age\"] <= 30,\n",
    "    deportationsecu_trump[\"age\"] <= 40,\n",
    "    deportationsecu_trump[\"age\"] <= 50,\n",
    "    deportationsecu_trump[\"age\"] <= 60,\n",
    "    deportationsecu_trump[\"age\"] <= 70,\n",
    "\n",
    "]\n",
    "choices = [\"<10\", \"11-20\", \"21-30\", \"31-40\", \"41-50\", \"51-60\", \"61-70\"]\n",
    "\n",
    "deportationsecu_trump[\"age_group\"] = np.select(conditions, choices, default=\"70+\")\n",
    "deportationsecu_trump[\"age_group\"].value_counts()"
   ]
  },
  {
   "cell_type": "code",
   "execution_count": 35,
   "id": "8586949a-dc58-4fd7-a684-613f9effa387",
   "metadata": {},
   "outputs": [
    {
     "data": {
      "text/plain": [
       "age_group\n",
       "21-30    0.364119\n",
       "31-40    0.316083\n",
       "41-50    0.158174\n",
       "11-20    0.073779\n",
       "<10      0.041667\n",
       "51-60    0.039278\n",
       "61-70    0.006900\n",
       "Name: proportion, dtype: float64"
      ]
     },
     "execution_count": 35,
     "metadata": {},
     "output_type": "execute_result"
    }
   ],
   "source": [
    "deportationsecu_trump[\"age_group\"].value_counts(normalize=True)"
   ]
  },
  {
   "cell_type": "code",
   "execution_count": 36,
   "id": "9d0275dc-dd96-44a9-ac2a-40d2bf607a8a",
   "metadata": {},
   "outputs": [
    {
     "data": {
      "text/plain": [
       "66.00999999999999"
      ]
     },
     "execution_count": 36,
     "metadata": {},
     "output_type": "execute_result"
    }
   ],
   "source": [
    "34.41 + 31.60"
   ]
  },
  {
   "cell_type": "code",
   "execution_count": 37,
   "id": "282930e8-bf34-4244-9eac-6b1fb6cf20c4",
   "metadata": {},
   "outputs": [],
   "source": [
    "deportationsecu_trump[\"Entry Date\"] = pd.to_datetime(deportationsecu_trump[\"Entry Date\"])"
   ]
  },
  {
   "cell_type": "code",
   "execution_count": 38,
   "id": "8c81448a-6d15-458d-9099-891e5b96e172",
   "metadata": {},
   "outputs": [
    {
     "data": {
      "text/plain": [
       "Entry Date\n",
       "False    3392\n",
       "True      376\n",
       "Name: count, dtype: int64"
      ]
     },
     "execution_count": 38,
     "metadata": {},
     "output_type": "execute_result"
    }
   ],
   "source": [
    "deportationsecu_trump[\"Entry Date\"].isna().value_counts()"
   ]
  },
  {
   "cell_type": "code",
   "execution_count": 39,
   "id": "99157b16-dc27-4190-b2db-53d52076b7ed",
   "metadata": {},
   "outputs": [
    {
     "data": {
      "text/plain": [
       "Entry Date\n",
       "2025.0    0.353479\n",
       "2024.0    0.316038\n",
       "2023.0    0.146816\n",
       "2022.0    0.073703\n",
       "2021.0    0.048349\n",
       "2019.0    0.011792\n",
       "2016.0    0.010024\n",
       "2020.0    0.007960\n",
       "2017.0    0.007665\n",
       "2013.0    0.005012\n",
       "2014.0    0.004422\n",
       "2015.0    0.002948\n",
       "2012.0    0.002653\n",
       "2018.0    0.002358\n",
       "2001.0    0.001769\n",
       "2009.0    0.000884\n",
       "2000.0    0.000884\n",
       "2005.0    0.000884\n",
       "2010.0    0.000295\n",
       "1992.0    0.000295\n",
       "1997.0    0.000295\n",
       "2002.0    0.000295\n",
       "2004.0    0.000295\n",
       "2006.0    0.000295\n",
       "2007.0    0.000295\n",
       "1988.0    0.000295\n",
       "Name: proportion, dtype: float64"
      ]
     },
     "execution_count": 39,
     "metadata": {},
     "output_type": "execute_result"
    }
   ],
   "source": [
    "deportationsecu_trump[\"Entry Date\"].dt.year.value_counts(normalize=True)"
   ]
  },
  {
   "cell_type": "code",
   "execution_count": 40,
   "id": "45a44ebe-31d4-4d62-ba05-c2e0070a00cd",
   "metadata": {},
   "outputs": [
    {
     "data": {
      "text/plain": [
       "64"
      ]
     },
     "execution_count": 40,
     "metadata": {},
     "output_type": "execute_result"
    }
   ],
   "source": [
    "len(deportationsecu_trump[deportationsecu_trump[\"Entry Date\"].dt.year < 2015])"
   ]
  },
  {
   "cell_type": "code",
   "execution_count": 41,
   "id": "115738bd-804e-4429-8b9e-a012075060c0",
   "metadata": {},
   "outputs": [
    {
     "data": {
      "text/plain": [
       "Case Criminality\n",
       "1 Convicted Criminal            24\n",
       "2 Pending Criminal Charges      23\n",
       "3 Other Immigration Violator    17\n",
       "Name: count, dtype: int64"
      ]
     },
     "execution_count": 41,
     "metadata": {},
     "output_type": "execute_result"
    }
   ],
   "source": [
    "deportationsecu_trump[deportationsecu_trump[\"Entry Date\"].dt.year < 2015][\"Case Criminality\"].value_counts()"
   ]
  },
  {
   "cell_type": "code",
   "execution_count": 42,
   "id": "f24ce4ce-628b-4119-9328-7a5356b59218",
   "metadata": {},
   "outputs": [
    {
     "data": {
      "text/html": [
       "<div>\n",
       "<style scoped>\n",
       "    .dataframe tbody tr th:only-of-type {\n",
       "        vertical-align: middle;\n",
       "    }\n",
       "\n",
       "    .dataframe tbody tr th {\n",
       "        vertical-align: top;\n",
       "    }\n",
       "\n",
       "    .dataframe thead th {\n",
       "        text-align: right;\n",
       "    }\n",
       "</style>\n",
       "<table border=\"1\" class=\"dataframe\">\n",
       "  <thead>\n",
       "    <tr style=\"text-align: right;\">\n",
       "      <th></th>\n",
       "      <th>Entry Date</th>\n",
       "      <th>Final Order Date</th>\n",
       "      <th>Latest Person Apprehension Date</th>\n",
       "      <th>age</th>\n",
       "      <th>Unique Identifier</th>\n",
       "    </tr>\n",
       "  </thead>\n",
       "  <tbody>\n",
       "    <tr>\n",
       "      <th>859</th>\n",
       "      <td>2001-05-24</td>\n",
       "      <td>2002-05-29</td>\n",
       "      <td>2025-01-24 09:31:00</td>\n",
       "      <td>51</td>\n",
       "      <td>a0087b716dc27b508b585c9967b5bfa1a5c66c37</td>\n",
       "    </tr>\n",
       "    <tr>\n",
       "      <th>1366</th>\n",
       "      <td>2012-07-28</td>\n",
       "      <td>2013-06-18</td>\n",
       "      <td>2025-02-12 15:00:00</td>\n",
       "      <td>31</td>\n",
       "      <td>35006f451c915460c19dd8f8925c7654f24d1d69</td>\n",
       "    </tr>\n",
       "    <tr>\n",
       "      <th>1790</th>\n",
       "      <td>2002-02-16</td>\n",
       "      <td>2003-05-02</td>\n",
       "      <td>2025-03-06 10:05:00</td>\n",
       "      <td>46</td>\n",
       "      <td>75ac7b9efd30e75a2f2636d0c5111ba43f0460d2</td>\n",
       "    </tr>\n",
       "    <tr>\n",
       "      <th>2226</th>\n",
       "      <td>2014-01-14</td>\n",
       "      <td>2024-04-23</td>\n",
       "      <td>2025-04-03 13:33:00</td>\n",
       "      <td>40</td>\n",
       "      <td>bcc5f99c2b261c0f01461bc16261eb66aab7dfa3</td>\n",
       "    </tr>\n",
       "    <tr>\n",
       "      <th>2668</th>\n",
       "      <td>2001-04-01</td>\n",
       "      <td>2023-10-05</td>\n",
       "      <td>2025-02-13 09:49:00</td>\n",
       "      <td>45</td>\n",
       "      <td>af79968e65004a4817b5fe4c74d95dfd13734f5e</td>\n",
       "    </tr>\n",
       "    <tr>\n",
       "      <th>2862</th>\n",
       "      <td>2006-12-07</td>\n",
       "      <td>2007-02-06</td>\n",
       "      <td>2025-05-05 11:30:00</td>\n",
       "      <td>37</td>\n",
       "      <td>1da84fcbc2830cf0c1a9905693e1f9cb08ff666e</td>\n",
       "    </tr>\n",
       "    <tr>\n",
       "      <th>2914</th>\n",
       "      <td>2000-11-23</td>\n",
       "      <td>2025-05-06</td>\n",
       "      <td>2025-05-05 20:41:27</td>\n",
       "      <td>25</td>\n",
       "      <td>83a3429763ed7202f87045fee870e1b9cfddd8fe</td>\n",
       "    </tr>\n",
       "    <tr>\n",
       "      <th>2968</th>\n",
       "      <td>2005-08-30</td>\n",
       "      <td>2005-11-02</td>\n",
       "      <td>2025-03-20 14:51:00</td>\n",
       "      <td>54</td>\n",
       "      <td>fdc92b74c8ef431ad546e7ae3475169de9b65987</td>\n",
       "    </tr>\n",
       "    <tr>\n",
       "      <th>3165</th>\n",
       "      <td>2013-10-08</td>\n",
       "      <td>2015-04-21</td>\n",
       "      <td>2025-05-23 10:30:00</td>\n",
       "      <td>34</td>\n",
       "      <td>89b8639c5e83fd7e3f6d15bdce59366f9d53c27e</td>\n",
       "    </tr>\n",
       "    <tr>\n",
       "      <th>3169</th>\n",
       "      <td>2012-09-03</td>\n",
       "      <td>2013-05-09</td>\n",
       "      <td>2025-05-23 08:00:00</td>\n",
       "      <td>32</td>\n",
       "      <td>941c7e28b4fa0283e34326e6a22804ebe64f9174</td>\n",
       "    </tr>\n",
       "    <tr>\n",
       "      <th>3270</th>\n",
       "      <td>2013-10-12</td>\n",
       "      <td>2015-04-07</td>\n",
       "      <td>2025-02-19 09:01:00</td>\n",
       "      <td>29</td>\n",
       "      <td>a10c89378514cf809003ffa49314ce178f525056</td>\n",
       "    </tr>\n",
       "    <tr>\n",
       "      <th>3271</th>\n",
       "      <td>2014-01-28</td>\n",
       "      <td>2018-05-02</td>\n",
       "      <td>2025-05-29 09:15:34</td>\n",
       "      <td>38</td>\n",
       "      <td>a27828f85495eaa1e40732db9cdeaaa58528594a</td>\n",
       "    </tr>\n",
       "    <tr>\n",
       "      <th>3279</th>\n",
       "      <td>2013-05-14</td>\n",
       "      <td>2018-12-04</td>\n",
       "      <td>2025-05-29 08:12:00</td>\n",
       "      <td>35</td>\n",
       "      <td>b765da56ea840a8252b689ae79e403ebda6ff040</td>\n",
       "    </tr>\n",
       "    <tr>\n",
       "      <th>3550</th>\n",
       "      <td>2009-07-08</td>\n",
       "      <td>2014-03-25</td>\n",
       "      <td>2025-04-22 10:02:00</td>\n",
       "      <td>37</td>\n",
       "      <td>2cc16662e5668493daf00e1e632586aded078ce3</td>\n",
       "    </tr>\n",
       "    <tr>\n",
       "      <th>3554</th>\n",
       "      <td>2001-04-06</td>\n",
       "      <td>2001-06-30</td>\n",
       "      <td>2025-06-12 09:35:45</td>\n",
       "      <td>43</td>\n",
       "      <td>34e9d516ea4f86200f4faf81d8384b3d38a8e081</td>\n",
       "    </tr>\n",
       "    <tr>\n",
       "      <th>3610</th>\n",
       "      <td>2009-05-01</td>\n",
       "      <td>2025-06-03</td>\n",
       "      <td>2025-04-09 06:30:00</td>\n",
       "      <td>34</td>\n",
       "      <td>eeaf0a4f1265d51517833d3f3bbe425320ba48a9</td>\n",
       "    </tr>\n",
       "    <tr>\n",
       "      <th>3646</th>\n",
       "      <td>2014-06-14</td>\n",
       "      <td>2015-09-16</td>\n",
       "      <td>2025-06-07 15:38:26</td>\n",
       "      <td>34</td>\n",
       "      <td>077c435df8edaa106322d0345c75c093b854343b</td>\n",
       "    </tr>\n",
       "  </tbody>\n",
       "</table>\n",
       "</div>"
      ],
      "text/plain": [
       "     Entry Date Final Order Date Latest Person Apprehension Date  age  \\\n",
       "859  2001-05-24       2002-05-29             2025-01-24 09:31:00   51   \n",
       "1366 2012-07-28       2013-06-18             2025-02-12 15:00:00   31   \n",
       "1790 2002-02-16       2003-05-02             2025-03-06 10:05:00   46   \n",
       "2226 2014-01-14       2024-04-23             2025-04-03 13:33:00   40   \n",
       "2668 2001-04-01       2023-10-05             2025-02-13 09:49:00   45   \n",
       "2862 2006-12-07       2007-02-06             2025-05-05 11:30:00   37   \n",
       "2914 2000-11-23       2025-05-06             2025-05-05 20:41:27   25   \n",
       "2968 2005-08-30       2005-11-02             2025-03-20 14:51:00   54   \n",
       "3165 2013-10-08       2015-04-21             2025-05-23 10:30:00   34   \n",
       "3169 2012-09-03       2013-05-09             2025-05-23 08:00:00   32   \n",
       "3270 2013-10-12       2015-04-07             2025-02-19 09:01:00   29   \n",
       "3271 2014-01-28       2018-05-02             2025-05-29 09:15:34   38   \n",
       "3279 2013-05-14       2018-12-04             2025-05-29 08:12:00   35   \n",
       "3550 2009-07-08       2014-03-25             2025-04-22 10:02:00   37   \n",
       "3554 2001-04-06       2001-06-30             2025-06-12 09:35:45   43   \n",
       "3610 2009-05-01       2025-06-03             2025-04-09 06:30:00   34   \n",
       "3646 2014-06-14       2015-09-16             2025-06-07 15:38:26   34   \n",
       "\n",
       "                             Unique Identifier  \n",
       "859   a0087b716dc27b508b585c9967b5bfa1a5c66c37  \n",
       "1366  35006f451c915460c19dd8f8925c7654f24d1d69  \n",
       "1790  75ac7b9efd30e75a2f2636d0c5111ba43f0460d2  \n",
       "2226  bcc5f99c2b261c0f01461bc16261eb66aab7dfa3  \n",
       "2668  af79968e65004a4817b5fe4c74d95dfd13734f5e  \n",
       "2862  1da84fcbc2830cf0c1a9905693e1f9cb08ff666e  \n",
       "2914  83a3429763ed7202f87045fee870e1b9cfddd8fe  \n",
       "2968  fdc92b74c8ef431ad546e7ae3475169de9b65987  \n",
       "3165  89b8639c5e83fd7e3f6d15bdce59366f9d53c27e  \n",
       "3169  941c7e28b4fa0283e34326e6a22804ebe64f9174  \n",
       "3270  a10c89378514cf809003ffa49314ce178f525056  \n",
       "3271  a27828f85495eaa1e40732db9cdeaaa58528594a  \n",
       "3279  b765da56ea840a8252b689ae79e403ebda6ff040  \n",
       "3550  2cc16662e5668493daf00e1e632586aded078ce3  \n",
       "3554  34e9d516ea4f86200f4faf81d8384b3d38a8e081  \n",
       "3610  eeaf0a4f1265d51517833d3f3bbe425320ba48a9  \n",
       "3646  077c435df8edaa106322d0345c75c093b854343b  "
      ]
     },
     "execution_count": 42,
     "metadata": {},
     "output_type": "execute_result"
    }
   ],
   "source": [
    "deportationsecu_trump[\n",
    "    (deportationsecu_trump[\"Entry Date\"].dt.year < 2015) &\n",
    "    (deportationsecu_trump[\"Case Criminality\"] == \"3 Other Immigration Violator\")\n",
    "][[\"Entry Date\", \"Final Order Date\", \"Latest Person Apprehension Date\", \"age\", \"Unique Identifier\"]]"
   ]
  },
  {
   "cell_type": "code",
   "execution_count": 43,
   "id": "be3f6311-75ca-4845-931a-b6a7b2282208",
   "metadata": {},
   "outputs": [
    {
     "data": {
      "text/html": [
       "<div>\n",
       "<style scoped>\n",
       "    .dataframe tbody tr th:only-of-type {\n",
       "        vertical-align: middle;\n",
       "    }\n",
       "\n",
       "    .dataframe tbody tr th {\n",
       "        vertical-align: top;\n",
       "    }\n",
       "\n",
       "    .dataframe thead th {\n",
       "        text-align: right;\n",
       "    }\n",
       "</style>\n",
       "<table border=\"1\" class=\"dataframe\">\n",
       "  <thead>\n",
       "    <tr style=\"text-align: right;\">\n",
       "      <th></th>\n",
       "      <th>260868</th>\n",
       "    </tr>\n",
       "  </thead>\n",
       "  <tbody>\n",
       "    <tr>\n",
       "      <th>Apprehension Date</th>\n",
       "      <td>2025-03-20 14:51:00</td>\n",
       "    </tr>\n",
       "    <tr>\n",
       "      <th>Apprehension State</th>\n",
       "      <td>NEW JERSEY</td>\n",
       "    </tr>\n",
       "    <tr>\n",
       "      <th>Apprehension County</th>\n",
       "      <td>NaN</td>\n",
       "    </tr>\n",
       "    <tr>\n",
       "      <th>Apprehension AOR</th>\n",
       "      <td>Newark Area of Responsibility</td>\n",
       "    </tr>\n",
       "    <tr>\n",
       "      <th>Final Program</th>\n",
       "      <td>Fugitive Operations</td>\n",
       "    </tr>\n",
       "    <tr>\n",
       "      <th>Final Program Group</th>\n",
       "      <td>ICE</td>\n",
       "    </tr>\n",
       "    <tr>\n",
       "      <th>Apprehension Method</th>\n",
       "      <td>Located</td>\n",
       "    </tr>\n",
       "    <tr>\n",
       "      <th>Apprehension Criminality</th>\n",
       "      <td>3 Other Immigration Violator</td>\n",
       "    </tr>\n",
       "    <tr>\n",
       "      <th>Case Status</th>\n",
       "      <td>8-Excluded/Removed - Inadmissibility</td>\n",
       "    </tr>\n",
       "    <tr>\n",
       "      <th>Case Category</th>\n",
       "      <td>[8C] Excludable / Inadmissible - Administrativ...</td>\n",
       "    </tr>\n",
       "    <tr>\n",
       "      <th>Departed Date</th>\n",
       "      <td>2025-05-20 00:00:00</td>\n",
       "    </tr>\n",
       "    <tr>\n",
       "      <th>Departure Country</th>\n",
       "      <td>ECUADOR</td>\n",
       "    </tr>\n",
       "    <tr>\n",
       "      <th>Final Order Yes No</th>\n",
       "      <td>YES</td>\n",
       "    </tr>\n",
       "    <tr>\n",
       "      <th>Final Order Date</th>\n",
       "      <td>2005-11-02 00:00:00</td>\n",
       "    </tr>\n",
       "    <tr>\n",
       "      <th>Birth Date</th>\n",
       "      <td>(b)(6), (b)(7)(C)</td>\n",
       "    </tr>\n",
       "    <tr>\n",
       "      <th>Birth Year</th>\n",
       "      <td>1971</td>\n",
       "    </tr>\n",
       "    <tr>\n",
       "      <th>Citizenship Country</th>\n",
       "      <td>ECUADOR</td>\n",
       "    </tr>\n",
       "    <tr>\n",
       "      <th>Gender</th>\n",
       "      <td>Male</td>\n",
       "    </tr>\n",
       "    <tr>\n",
       "      <th>Apprehension Site Landmark</th>\n",
       "      <td>ORANGE TWP PD</td>\n",
       "    </tr>\n",
       "    <tr>\n",
       "      <th>Alien File Number</th>\n",
       "      <td>(b)(6), (b)(7)(C)</td>\n",
       "    </tr>\n",
       "    <tr>\n",
       "      <th>EID Case ID</th>\n",
       "      <td>(b)(6), (b)(7)(C), (b)(7)(E)</td>\n",
       "    </tr>\n",
       "    <tr>\n",
       "      <th>EID Subject ID</th>\n",
       "      <td>(b)(6), (b)(7)(C), (b)(7)(E)</td>\n",
       "    </tr>\n",
       "    <tr>\n",
       "      <th>Unique Identifier</th>\n",
       "      <td>fdc92b74c8ef431ad546e7ae3475169de9b65987</td>\n",
       "    </tr>\n",
       "  </tbody>\n",
       "</table>\n",
       "</div>"
      ],
      "text/plain": [
       "                                                                       260868\n",
       "Apprehension Date                                         2025-03-20 14:51:00\n",
       "Apprehension State                                                 NEW JERSEY\n",
       "Apprehension County                                                       NaN\n",
       "Apprehension AOR                                Newark Area of Responsibility\n",
       "Final Program                                             Fugitive Operations\n",
       "Final Program Group                                                       ICE\n",
       "Apprehension Method                                                   Located\n",
       "Apprehension Criminality                         3 Other Immigration Violator\n",
       "Case Status                              8-Excluded/Removed - Inadmissibility\n",
       "Case Category               [8C] Excludable / Inadmissible - Administrativ...\n",
       "Departed Date                                             2025-05-20 00:00:00\n",
       "Departure Country                                                     ECUADOR\n",
       "Final Order Yes No                                                        YES\n",
       "Final Order Date                                          2005-11-02 00:00:00\n",
       "Birth Date                                                  (b)(6), (b)(7)(C)\n",
       "Birth Year                                                               1971\n",
       "Citizenship Country                                                   ECUADOR\n",
       "Gender                                                                   Male\n",
       "Apprehension Site Landmark                                      ORANGE TWP PD\n",
       "Alien File Number                                           (b)(6), (b)(7)(C)\n",
       "EID Case ID                                      (b)(6), (b)(7)(C), (b)(7)(E)\n",
       "EID Subject ID                                   (b)(6), (b)(7)(C), (b)(7)(E)\n",
       "Unique Identifier                    fdc92b74c8ef431ad546e7ae3475169de9b65987"
      ]
     },
     "execution_count": 43,
     "metadata": {},
     "output_type": "execute_result"
    }
   ],
   "source": [
    "arrests[arrests[\"Unique Identifier\"] == \"fdc92b74c8ef431ad546e7ae3475169de9b65987\"].T"
   ]
  },
  {
   "cell_type": "code",
   "execution_count": 44,
   "id": "1db9b0c6-9fc8-4b7d-818b-157c44311610",
   "metadata": {},
   "outputs": [
    {
     "data": {
      "text/html": [
       "<div>\n",
       "<style scoped>\n",
       "    .dataframe tbody tr th:only-of-type {\n",
       "        vertical-align: middle;\n",
       "    }\n",
       "\n",
       "    .dataframe tbody tr th {\n",
       "        vertical-align: top;\n",
       "    }\n",
       "\n",
       "    .dataframe thead th {\n",
       "        text-align: right;\n",
       "    }\n",
       "</style>\n",
       "<table border=\"1\" class=\"dataframe\">\n",
       "  <thead>\n",
       "    <tr style=\"text-align: right;\">\n",
       "      <th></th>\n",
       "      <th>2968</th>\n",
       "    </tr>\n",
       "  </thead>\n",
       "  <tbody>\n",
       "    <tr>\n",
       "      <th>index</th>\n",
       "      <td>111518</td>\n",
       "    </tr>\n",
       "    <tr>\n",
       "      <th>Departed Date</th>\n",
       "      <td>2025-05-20 00:00:00</td>\n",
       "    </tr>\n",
       "    <tr>\n",
       "      <th>Port of Departure</th>\n",
       "      <td>ALEXANDRIA INTERNATIONAL AIRPORT, POE</td>\n",
       "    </tr>\n",
       "    <tr>\n",
       "      <th>Departure Country</th>\n",
       "      <td>ECUADOR</td>\n",
       "    </tr>\n",
       "    <tr>\n",
       "      <th>Docket AOR</th>\n",
       "      <td>Washington Area of Responsibility</td>\n",
       "    </tr>\n",
       "    <tr>\n",
       "      <th>Apprehension State</th>\n",
       "      <td>NaN</td>\n",
       "    </tr>\n",
       "    <tr>\n",
       "      <th>Apprehension County</th>\n",
       "      <td>NaN</td>\n",
       "    </tr>\n",
       "    <tr>\n",
       "      <th>Case Status</th>\n",
       "      <td>8-Excluded/Removed - Inadmissibility</td>\n",
       "    </tr>\n",
       "    <tr>\n",
       "      <th>Gender</th>\n",
       "      <td>Male</td>\n",
       "    </tr>\n",
       "    <tr>\n",
       "      <th>Birth Country</th>\n",
       "      <td>ECUADOR</td>\n",
       "    </tr>\n",
       "    <tr>\n",
       "      <th>Citizenship Country</th>\n",
       "      <td>ECUADOR</td>\n",
       "    </tr>\n",
       "    <tr>\n",
       "      <th>Birth Date</th>\n",
       "      <td>(b)(6), (b)(7)(C)</td>\n",
       "    </tr>\n",
       "    <tr>\n",
       "      <th>Birth Year</th>\n",
       "      <td>1971</td>\n",
       "    </tr>\n",
       "    <tr>\n",
       "      <th>Entry Status</th>\n",
       "      <td>PWA Mexico</td>\n",
       "    </tr>\n",
       "    <tr>\n",
       "      <th>Entry Date</th>\n",
       "      <td>2005-08-30 00:00:00</td>\n",
       "    </tr>\n",
       "    <tr>\n",
       "      <th>MSC NCIC Charge Code</th>\n",
       "      <td>NaN</td>\n",
       "    </tr>\n",
       "    <tr>\n",
       "      <th>MSC Charge Date</th>\n",
       "      <td>NaN</td>\n",
       "    </tr>\n",
       "    <tr>\n",
       "      <th>MSC Criminal Charge Status</th>\n",
       "      <td>NaN</td>\n",
       "    </tr>\n",
       "    <tr>\n",
       "      <th>MSC Criminal Charge Status Code</th>\n",
       "      <td>NaN</td>\n",
       "    </tr>\n",
       "    <tr>\n",
       "      <th>MSC Conviction Date</th>\n",
       "      <td>NaN</td>\n",
       "    </tr>\n",
       "    <tr>\n",
       "      <th>Case Threat Level</th>\n",
       "      <td>NaN</td>\n",
       "    </tr>\n",
       "    <tr>\n",
       "      <th>Case Criminality</th>\n",
       "      <td>3 Other Immigration Violator</td>\n",
       "    </tr>\n",
       "    <tr>\n",
       "      <th>Felon</th>\n",
       "      <td>Not an Aggravated Felon</td>\n",
       "    </tr>\n",
       "    <tr>\n",
       "      <th>Processing Disposition</th>\n",
       "      <td>Warrant of Arrest/Notice to Appear</td>\n",
       "    </tr>\n",
       "    <tr>\n",
       "      <th>Case Category</th>\n",
       "      <td>[8C] Excludable / Inadmissible - Administrativ...</td>\n",
       "    </tr>\n",
       "    <tr>\n",
       "      <th>Final Program</th>\n",
       "      <td>Border Patrol</td>\n",
       "    </tr>\n",
       "    <tr>\n",
       "      <th>Final Program Code</th>\n",
       "      <td>BP</td>\n",
       "    </tr>\n",
       "    <tr>\n",
       "      <th>Case Category Time of Arrest</th>\n",
       "      <td>8E</td>\n",
       "    </tr>\n",
       "    <tr>\n",
       "      <th>Latest Arrest Program Current</th>\n",
       "      <td>Fugitive Operations</td>\n",
       "    </tr>\n",
       "    <tr>\n",
       "      <th>Latest Arrest Program Current Code</th>\n",
       "      <td>FUG</td>\n",
       "    </tr>\n",
       "    <tr>\n",
       "      <th>Latest Person Apprehension Date</th>\n",
       "      <td>2025-03-20 14:51:00</td>\n",
       "    </tr>\n",
       "    <tr>\n",
       "      <th>Final Order Yes No</th>\n",
       "      <td>YES</td>\n",
       "    </tr>\n",
       "    <tr>\n",
       "      <th>Final Order Date</th>\n",
       "      <td>2005-11-02 00:00:00</td>\n",
       "    </tr>\n",
       "    <tr>\n",
       "      <th>Final Charge Code</th>\n",
       "      <td>I6A</td>\n",
       "    </tr>\n",
       "    <tr>\n",
       "      <th>Final Charge Section Code</th>\n",
       "      <td>212a6Ai</td>\n",
       "    </tr>\n",
       "    <tr>\n",
       "      <th>Prior Deport Yes No</th>\n",
       "      <td>NO</td>\n",
       "    </tr>\n",
       "    <tr>\n",
       "      <th>Alien File Number</th>\n",
       "      <td>(b)(6), (b)(7)(C), (b)(7)(E)</td>\n",
       "    </tr>\n",
       "    <tr>\n",
       "      <th>EID Case ID</th>\n",
       "      <td>(b)(6), (b)(7)(C), (b)(7)(E)</td>\n",
       "    </tr>\n",
       "    <tr>\n",
       "      <th>EID Subject ID</th>\n",
       "      <td>(b)(6), (b)(7)(C), (b)(7)(E)</td>\n",
       "    </tr>\n",
       "    <tr>\n",
       "      <th>Unique Identifier</th>\n",
       "      <td>fdc92b74c8ef431ad546e7ae3475169de9b65987</td>\n",
       "    </tr>\n",
       "    <tr>\n",
       "      <th>age</th>\n",
       "      <td>54</td>\n",
       "    </tr>\n",
       "    <tr>\n",
       "      <th>age_group</th>\n",
       "      <td>51-60</td>\n",
       "    </tr>\n",
       "  </tbody>\n",
       "</table>\n",
       "</div>"
      ],
      "text/plain": [
       "                                                                                 2968\n",
       "index                                                                          111518\n",
       "Departed Date                                                     2025-05-20 00:00:00\n",
       "Port of Departure                               ALEXANDRIA INTERNATIONAL AIRPORT, POE\n",
       "Departure Country                                                             ECUADOR\n",
       "Docket AOR                                          Washington Area of Responsibility\n",
       "Apprehension State                                                                NaN\n",
       "Apprehension County                                                               NaN\n",
       "Case Status                                      8-Excluded/Removed - Inadmissibility\n",
       "Gender                                                                           Male\n",
       "Birth Country                                                                 ECUADOR\n",
       "Citizenship Country                                                           ECUADOR\n",
       "Birth Date                                                          (b)(6), (b)(7)(C)\n",
       "Birth Year                                                                       1971\n",
       "Entry Status                                                               PWA Mexico\n",
       "Entry Date                                                        2005-08-30 00:00:00\n",
       "MSC NCIC Charge Code                                                              NaN\n",
       "MSC Charge Date                                                                   NaN\n",
       "MSC Criminal Charge Status                                                        NaN\n",
       "MSC Criminal Charge Status Code                                                   NaN\n",
       "MSC Conviction Date                                                               NaN\n",
       "Case Threat Level                                                                 NaN\n",
       "Case Criminality                                         3 Other Immigration Violator\n",
       "Felon                                                         Not an Aggravated Felon\n",
       "Processing Disposition                             Warrant of Arrest/Notice to Appear\n",
       "Case Category                       [8C] Excludable / Inadmissible - Administrativ...\n",
       "Final Program                                                           Border Patrol\n",
       "Final Program Code                                                                 BP\n",
       "Case Category Time of Arrest                                                       8E\n",
       "Latest Arrest Program Current                                     Fugitive Operations\n",
       "Latest Arrest Program Current Code                                                FUG\n",
       "Latest Person Apprehension Date                                   2025-03-20 14:51:00\n",
       "Final Order Yes No                                                                YES\n",
       "Final Order Date                                                  2005-11-02 00:00:00\n",
       "Final Charge Code                                                                 I6A\n",
       "Final Charge Section Code                                                     212a6Ai\n",
       "Prior Deport Yes No                                                                NO\n",
       "Alien File Number                                        (b)(6), (b)(7)(C), (b)(7)(E)\n",
       "EID Case ID                                              (b)(6), (b)(7)(C), (b)(7)(E)\n",
       "EID Subject ID                                           (b)(6), (b)(7)(C), (b)(7)(E)\n",
       "Unique Identifier                            fdc92b74c8ef431ad546e7ae3475169de9b65987\n",
       "age                                                                                54\n",
       "age_group                                                                       51-60"
      ]
     },
     "execution_count": 44,
     "metadata": {},
     "output_type": "execute_result"
    }
   ],
   "source": [
    "deportationsecu_trump[deportationsecu_trump[\"Unique Identifier\"] == \"fdc92b74c8ef431ad546e7ae3475169de9b65987\"].T"
   ]
  },
  {
   "cell_type": "code",
   "execution_count": 45,
   "id": "3a2d4758-fd86-4d63-a7f7-752b5ede1528",
   "metadata": {},
   "outputs": [
    {
     "data": {
      "text/plain": [
       "Latest Person Apprehension Date\n",
       "2025    1690\n",
       "2024     731\n",
       "2023     109\n",
       "2021      45\n",
       "2022      14\n",
       "2016       2\n",
       "2019       1\n",
       "Name: count, dtype: int64"
      ]
     },
     "execution_count": 45,
     "metadata": {},
     "output_type": "execute_result"
    }
   ],
   "source": [
    "deportationsecu_trump[deportationsecu_trump[\"Case Criminality\"] == \"3 Other Immigration Violator\"][\"Latest Person Apprehension Date\"].dt.year.value_counts()"
   ]
  },
  {
   "cell_type": "code",
   "execution_count": 46,
   "id": "ca6f33be-b044-4131-85eb-bc0ce4e41d95",
   "metadata": {},
   "outputs": [
    {
     "data": {
      "text/html": [
       "<div>\n",
       "<style scoped>\n",
       "    .dataframe tbody tr th:only-of-type {\n",
       "        vertical-align: middle;\n",
       "    }\n",
       "\n",
       "    .dataframe tbody tr th {\n",
       "        vertical-align: top;\n",
       "    }\n",
       "\n",
       "    .dataframe thead th {\n",
       "        text-align: right;\n",
       "    }\n",
       "</style>\n",
       "<table border=\"1\" class=\"dataframe\">\n",
       "  <thead>\n",
       "    <tr style=\"text-align: right;\">\n",
       "      <th></th>\n",
       "      <th>index</th>\n",
       "      <th>Departed Date</th>\n",
       "      <th>Port of Departure</th>\n",
       "      <th>Departure Country</th>\n",
       "      <th>Docket AOR</th>\n",
       "      <th>Apprehension State</th>\n",
       "      <th>Apprehension County</th>\n",
       "      <th>Case Status</th>\n",
       "      <th>Gender</th>\n",
       "      <th>Birth Country</th>\n",
       "      <th>...</th>\n",
       "      <th>Final Charge Code</th>\n",
       "      <th>Final Charge Section Code</th>\n",
       "      <th>Prior Deport Yes No</th>\n",
       "      <th>Alien File Number</th>\n",
       "      <th>EID Case ID</th>\n",
       "      <th>EID Subject ID</th>\n",
       "      <th>Unique Identifier</th>\n",
       "      <th>age</th>\n",
       "      <th>age_group</th>\n",
       "      <th>days_usa</th>\n",
       "    </tr>\n",
       "  </thead>\n",
       "  <tbody>\n",
       "    <tr>\n",
       "      <th>1790</th>\n",
       "      <td>66616</td>\n",
       "      <td>2025-03-25</td>\n",
       "      <td>ALEXANDRIA INTERNATIONAL AIRPORT, POE</td>\n",
       "      <td>ECUADOR</td>\n",
       "      <td>HQ Area of Responsibility</td>\n",
       "      <td>NaN</td>\n",
       "      <td>NaN</td>\n",
       "      <td>8-Excluded/Removed - Inadmissibility</td>\n",
       "      <td>Male</td>\n",
       "      <td>ECUADOR</td>\n",
       "      <td>...</td>\n",
       "      <td>I6A</td>\n",
       "      <td>212a6Ai</td>\n",
       "      <td>NO</td>\n",
       "      <td>(b)(6), (b)(7)(C), (b)(7)(E)</td>\n",
       "      <td>(b)(6), (b)(7)(C), (b)(7)(E)</td>\n",
       "      <td>(b)(6), (b)(7)(C), (b)(7)(E)</td>\n",
       "      <td>75ac7b9efd30e75a2f2636d0c5111ba43f0460d2</td>\n",
       "      <td>46</td>\n",
       "      <td>41-50</td>\n",
       "      <td>8438.0</td>\n",
       "    </tr>\n",
       "    <tr>\n",
       "      <th>859</th>\n",
       "      <td>36697</td>\n",
       "      <td>2025-02-11</td>\n",
       "      <td>ALEXANDRIA INTERNATIONAL AIRPORT, POE</td>\n",
       "      <td>ECUADOR</td>\n",
       "      <td>Miami Area of Responsibility</td>\n",
       "      <td>NaN</td>\n",
       "      <td>NaN</td>\n",
       "      <td>8-Excluded/Removed - Inadmissibility</td>\n",
       "      <td>Male</td>\n",
       "      <td>ECUADOR</td>\n",
       "      <td>...</td>\n",
       "      <td>I6A</td>\n",
       "      <td>212a6Ai</td>\n",
       "      <td>NO</td>\n",
       "      <td>(b)(6), (b)(7)(C), (b)(7)(E)</td>\n",
       "      <td>(b)(6), (b)(7)(C), (b)(7)(E)</td>\n",
       "      <td>(b)(6), (b)(7)(C), (b)(7)(E)</td>\n",
       "      <td>a0087b716dc27b508b585c9967b5bfa1a5c66c37</td>\n",
       "      <td>51</td>\n",
       "      <td>51-60</td>\n",
       "      <td>8664.0</td>\n",
       "    </tr>\n",
       "    <tr>\n",
       "      <th>2668</th>\n",
       "      <td>98795</td>\n",
       "      <td>2025-05-06</td>\n",
       "      <td>HARLINGEN, TX, POE</td>\n",
       "      <td>ECUADOR</td>\n",
       "      <td>Harlingen Area of Responsibility</td>\n",
       "      <td>NaN</td>\n",
       "      <td>NaN</td>\n",
       "      <td>8-Excluded/Removed - Inadmissibility</td>\n",
       "      <td>Male</td>\n",
       "      <td>ECUADOR</td>\n",
       "      <td>...</td>\n",
       "      <td>I6A</td>\n",
       "      <td>212a6Ai</td>\n",
       "      <td>YES</td>\n",
       "      <td>(b)(6), (b)(7)(C), (b)(7)(E)</td>\n",
       "      <td>(b)(6), (b)(7)(C), (b)(7)(E)</td>\n",
       "      <td>(b)(6), (b)(7)(C), (b)(7)(E)</td>\n",
       "      <td>af79968e65004a4817b5fe4c74d95dfd13734f5e</td>\n",
       "      <td>45</td>\n",
       "      <td>41-50</td>\n",
       "      <td>8801.0</td>\n",
       "    </tr>\n",
       "    <tr>\n",
       "      <th>3554</th>\n",
       "      <td>138699</td>\n",
       "      <td>2025-06-19</td>\n",
       "      <td>PORT ISABEL, TX, POE</td>\n",
       "      <td>ECUADOR</td>\n",
       "      <td>Boston Area of Responsibility</td>\n",
       "      <td>NaN</td>\n",
       "      <td>NaN</td>\n",
       "      <td>8-Excluded/Removed - Inadmissibility</td>\n",
       "      <td>Male</td>\n",
       "      <td>ECUADOR</td>\n",
       "      <td>...</td>\n",
       "      <td>I6A</td>\n",
       "      <td>212a6Ai</td>\n",
       "      <td>NO</td>\n",
       "      <td>(b)(6), (b)(7)(C), (b)(7)(E)</td>\n",
       "      <td>(b)(6), (b)(7)(C), (b)(7)(E)</td>\n",
       "      <td>(b)(6), (b)(7)(C), (b)(7)(E)</td>\n",
       "      <td>34e9d516ea4f86200f4faf81d8384b3d38a8e081</td>\n",
       "      <td>43</td>\n",
       "      <td>41-50</td>\n",
       "      <td>8840.0</td>\n",
       "    </tr>\n",
       "    <tr>\n",
       "      <th>2914</th>\n",
       "      <td>111000</td>\n",
       "      <td>2025-05-20</td>\n",
       "      <td>ALEXANDRIA INTERNATIONAL AIRPORT, POE</td>\n",
       "      <td>ECUADOR</td>\n",
       "      <td>Buffalo Area of Responsibility</td>\n",
       "      <td>NaN</td>\n",
       "      <td>NaN</td>\n",
       "      <td>8-Excluded/Removed - Inadmissibility</td>\n",
       "      <td>Male</td>\n",
       "      <td>ECUADOR</td>\n",
       "      <td>...</td>\n",
       "      <td>I7A1</td>\n",
       "      <td>212a7AiI</td>\n",
       "      <td>NO</td>\n",
       "      <td>(b)(6), (b)(7)(C), (b)(7)(E)</td>\n",
       "      <td>(b)(6), (b)(7)(C), (b)(7)(E)</td>\n",
       "      <td>(b)(6), (b)(7)(C), (b)(7)(E)</td>\n",
       "      <td>83a3429763ed7202f87045fee870e1b9cfddd8fe</td>\n",
       "      <td>25</td>\n",
       "      <td>21-30</td>\n",
       "      <td>8944.0</td>\n",
       "    </tr>\n",
       "  </tbody>\n",
       "</table>\n",
       "<p>5 rows × 43 columns</p>\n",
       "</div>"
      ],
      "text/plain": [
       "       index Departed Date                      Port of Departure  \\\n",
       "1790   66616    2025-03-25  ALEXANDRIA INTERNATIONAL AIRPORT, POE   \n",
       "859    36697    2025-02-11  ALEXANDRIA INTERNATIONAL AIRPORT, POE   \n",
       "2668   98795    2025-05-06                     HARLINGEN, TX, POE   \n",
       "3554  138699    2025-06-19                   PORT ISABEL, TX, POE   \n",
       "2914  111000    2025-05-20  ALEXANDRIA INTERNATIONAL AIRPORT, POE   \n",
       "\n",
       "     Departure Country                        Docket AOR Apprehension State  \\\n",
       "1790           ECUADOR         HQ Area of Responsibility                NaN   \n",
       "859            ECUADOR      Miami Area of Responsibility                NaN   \n",
       "2668           ECUADOR  Harlingen Area of Responsibility                NaN   \n",
       "3554           ECUADOR     Boston Area of Responsibility                NaN   \n",
       "2914           ECUADOR    Buffalo Area of Responsibility                NaN   \n",
       "\n",
       "      Apprehension County                           Case Status Gender  \\\n",
       "1790                  NaN  8-Excluded/Removed - Inadmissibility   Male   \n",
       "859                   NaN  8-Excluded/Removed - Inadmissibility   Male   \n",
       "2668                  NaN  8-Excluded/Removed - Inadmissibility   Male   \n",
       "3554                  NaN  8-Excluded/Removed - Inadmissibility   Male   \n",
       "2914                  NaN  8-Excluded/Removed - Inadmissibility   Male   \n",
       "\n",
       "     Birth Country  ... Final Charge Code Final Charge Section Code  \\\n",
       "1790       ECUADOR  ...               I6A                   212a6Ai   \n",
       "859        ECUADOR  ...               I6A                   212a6Ai   \n",
       "2668       ECUADOR  ...               I6A                   212a6Ai   \n",
       "3554       ECUADOR  ...               I6A                   212a6Ai   \n",
       "2914       ECUADOR  ...              I7A1                  212a7AiI   \n",
       "\n",
       "      Prior Deport Yes No             Alien File Number  \\\n",
       "1790                   NO  (b)(6), (b)(7)(C), (b)(7)(E)   \n",
       "859                    NO  (b)(6), (b)(7)(C), (b)(7)(E)   \n",
       "2668                  YES  (b)(6), (b)(7)(C), (b)(7)(E)   \n",
       "3554                   NO  (b)(6), (b)(7)(C), (b)(7)(E)   \n",
       "2914                   NO  (b)(6), (b)(7)(C), (b)(7)(E)   \n",
       "\n",
       "                       EID Case ID                EID Subject ID  \\\n",
       "1790  (b)(6), (b)(7)(C), (b)(7)(E)  (b)(6), (b)(7)(C), (b)(7)(E)   \n",
       "859   (b)(6), (b)(7)(C), (b)(7)(E)  (b)(6), (b)(7)(C), (b)(7)(E)   \n",
       "2668  (b)(6), (b)(7)(C), (b)(7)(E)  (b)(6), (b)(7)(C), (b)(7)(E)   \n",
       "3554  (b)(6), (b)(7)(C), (b)(7)(E)  (b)(6), (b)(7)(C), (b)(7)(E)   \n",
       "2914  (b)(6), (b)(7)(C), (b)(7)(E)  (b)(6), (b)(7)(C), (b)(7)(E)   \n",
       "\n",
       "                             Unique Identifier age age_group days_usa  \n",
       "1790  75ac7b9efd30e75a2f2636d0c5111ba43f0460d2  46     41-50   8438.0  \n",
       "859   a0087b716dc27b508b585c9967b5bfa1a5c66c37  51     51-60   8664.0  \n",
       "2668  af79968e65004a4817b5fe4c74d95dfd13734f5e  45     41-50   8801.0  \n",
       "3554  34e9d516ea4f86200f4faf81d8384b3d38a8e081  43     41-50   8840.0  \n",
       "2914  83a3429763ed7202f87045fee870e1b9cfddd8fe  25     21-30   8944.0  \n",
       "\n",
       "[5 rows x 43 columns]"
      ]
     },
     "execution_count": 46,
     "metadata": {},
     "output_type": "execute_result"
    }
   ],
   "source": [
    "deportationsecu_trump[\"days_usa\"] = (\n",
    "    deportationsecu_trump[\"Departed Date\"] - deportationsecu_trump[\"Entry Date\"]\n",
    ").dt.days\n",
    "deportationsecu_trump[(deportationsecu_trump[\"days_usa\"].notna()) & (deportationsecu_trump[\"Case Criminality\"] == \"3 Other Immigration Violator\")].sort_values(by=\"days_usa\").tail()"
   ]
  },
  {
   "cell_type": "code",
   "execution_count": 47,
   "id": "f8af22d0-4ae5-43bc-9ed1-8a416b1ba2e7",
   "metadata": {},
   "outputs": [
    {
     "data": {
      "text/html": [
       "<div>\n",
       "<style scoped>\n",
       "    .dataframe tbody tr th:only-of-type {\n",
       "        vertical-align: middle;\n",
       "    }\n",
       "\n",
       "    .dataframe tbody tr th {\n",
       "        vertical-align: top;\n",
       "    }\n",
       "\n",
       "    .dataframe thead th {\n",
       "        text-align: right;\n",
       "    }\n",
       "</style>\n",
       "<table border=\"1\" class=\"dataframe\">\n",
       "  <thead>\n",
       "    <tr style=\"text-align: right;\">\n",
       "      <th></th>\n",
       "      <th>2914</th>\n",
       "    </tr>\n",
       "  </thead>\n",
       "  <tbody>\n",
       "    <tr>\n",
       "      <th>index</th>\n",
       "      <td>111000</td>\n",
       "    </tr>\n",
       "    <tr>\n",
       "      <th>Departed Date</th>\n",
       "      <td>2025-05-20 00:00:00</td>\n",
       "    </tr>\n",
       "    <tr>\n",
       "      <th>Port of Departure</th>\n",
       "      <td>ALEXANDRIA INTERNATIONAL AIRPORT, POE</td>\n",
       "    </tr>\n",
       "    <tr>\n",
       "      <th>Departure Country</th>\n",
       "      <td>ECUADOR</td>\n",
       "    </tr>\n",
       "    <tr>\n",
       "      <th>Docket AOR</th>\n",
       "      <td>Buffalo Area of Responsibility</td>\n",
       "    </tr>\n",
       "    <tr>\n",
       "      <th>Apprehension State</th>\n",
       "      <td>NaN</td>\n",
       "    </tr>\n",
       "    <tr>\n",
       "      <th>Apprehension County</th>\n",
       "      <td>NaN</td>\n",
       "    </tr>\n",
       "    <tr>\n",
       "      <th>Case Status</th>\n",
       "      <td>8-Excluded/Removed - Inadmissibility</td>\n",
       "    </tr>\n",
       "    <tr>\n",
       "      <th>Gender</th>\n",
       "      <td>Male</td>\n",
       "    </tr>\n",
       "    <tr>\n",
       "      <th>Birth Country</th>\n",
       "      <td>ECUADOR</td>\n",
       "    </tr>\n",
       "    <tr>\n",
       "      <th>Citizenship Country</th>\n",
       "      <td>ECUADOR</td>\n",
       "    </tr>\n",
       "    <tr>\n",
       "      <th>Birth Date</th>\n",
       "      <td>(b)(6), (b)(7)(C)</td>\n",
       "    </tr>\n",
       "    <tr>\n",
       "      <th>Birth Year</th>\n",
       "      <td>2000</td>\n",
       "    </tr>\n",
       "    <tr>\n",
       "      <th>Entry Status</th>\n",
       "      <td>PWA Mexico</td>\n",
       "    </tr>\n",
       "    <tr>\n",
       "      <th>Entry Date</th>\n",
       "      <td>2000-11-23 00:00:00</td>\n",
       "    </tr>\n",
       "    <tr>\n",
       "      <th>MSC NCIC Charge Code</th>\n",
       "      <td>NaN</td>\n",
       "    </tr>\n",
       "    <tr>\n",
       "      <th>MSC Charge Date</th>\n",
       "      <td>NaN</td>\n",
       "    </tr>\n",
       "    <tr>\n",
       "      <th>MSC Criminal Charge Status</th>\n",
       "      <td>NaN</td>\n",
       "    </tr>\n",
       "    <tr>\n",
       "      <th>MSC Criminal Charge Status Code</th>\n",
       "      <td>NaN</td>\n",
       "    </tr>\n",
       "    <tr>\n",
       "      <th>MSC Conviction Date</th>\n",
       "      <td>NaN</td>\n",
       "    </tr>\n",
       "    <tr>\n",
       "      <th>Case Threat Level</th>\n",
       "      <td>NaN</td>\n",
       "    </tr>\n",
       "    <tr>\n",
       "      <th>Case Criminality</th>\n",
       "      <td>3 Other Immigration Violator</td>\n",
       "    </tr>\n",
       "    <tr>\n",
       "      <th>Felon</th>\n",
       "      <td>Not an Aggravated Felon</td>\n",
       "    </tr>\n",
       "    <tr>\n",
       "      <th>Processing Disposition</th>\n",
       "      <td>Expedited Removal - Per 212(F)</td>\n",
       "    </tr>\n",
       "    <tr>\n",
       "      <th>Case Category</th>\n",
       "      <td>[8F] Expedited Removal</td>\n",
       "    </tr>\n",
       "    <tr>\n",
       "      <th>Final Program</th>\n",
       "      <td>Border Patrol</td>\n",
       "    </tr>\n",
       "    <tr>\n",
       "      <th>Final Program Code</th>\n",
       "      <td>BP</td>\n",
       "    </tr>\n",
       "    <tr>\n",
       "      <th>Case Category Time of Arrest</th>\n",
       "      <td>NaN</td>\n",
       "    </tr>\n",
       "    <tr>\n",
       "      <th>Latest Arrest Program Current</th>\n",
       "      <td>Border Patrol</td>\n",
       "    </tr>\n",
       "    <tr>\n",
       "      <th>Latest Arrest Program Current Code</th>\n",
       "      <td>BP</td>\n",
       "    </tr>\n",
       "    <tr>\n",
       "      <th>Latest Person Apprehension Date</th>\n",
       "      <td>2025-05-05 20:41:27</td>\n",
       "    </tr>\n",
       "    <tr>\n",
       "      <th>Final Order Yes No</th>\n",
       "      <td>YES</td>\n",
       "    </tr>\n",
       "    <tr>\n",
       "      <th>Final Order Date</th>\n",
       "      <td>2025-05-06 00:00:00</td>\n",
       "    </tr>\n",
       "    <tr>\n",
       "      <th>Final Charge Code</th>\n",
       "      <td>I7A1</td>\n",
       "    </tr>\n",
       "    <tr>\n",
       "      <th>Final Charge Section Code</th>\n",
       "      <td>212a7AiI</td>\n",
       "    </tr>\n",
       "    <tr>\n",
       "      <th>Prior Deport Yes No</th>\n",
       "      <td>NO</td>\n",
       "    </tr>\n",
       "    <tr>\n",
       "      <th>Alien File Number</th>\n",
       "      <td>(b)(6), (b)(7)(C), (b)(7)(E)</td>\n",
       "    </tr>\n",
       "    <tr>\n",
       "      <th>EID Case ID</th>\n",
       "      <td>(b)(6), (b)(7)(C), (b)(7)(E)</td>\n",
       "    </tr>\n",
       "    <tr>\n",
       "      <th>EID Subject ID</th>\n",
       "      <td>(b)(6), (b)(7)(C), (b)(7)(E)</td>\n",
       "    </tr>\n",
       "    <tr>\n",
       "      <th>Unique Identifier</th>\n",
       "      <td>83a3429763ed7202f87045fee870e1b9cfddd8fe</td>\n",
       "    </tr>\n",
       "    <tr>\n",
       "      <th>age</th>\n",
       "      <td>25</td>\n",
       "    </tr>\n",
       "    <tr>\n",
       "      <th>age_group</th>\n",
       "      <td>21-30</td>\n",
       "    </tr>\n",
       "    <tr>\n",
       "      <th>days_usa</th>\n",
       "      <td>8944.0</td>\n",
       "    </tr>\n",
       "  </tbody>\n",
       "</table>\n",
       "</div>"
      ],
      "text/plain": [
       "                                                                        2914\n",
       "index                                                                 111000\n",
       "Departed Date                                            2025-05-20 00:00:00\n",
       "Port of Departure                      ALEXANDRIA INTERNATIONAL AIRPORT, POE\n",
       "Departure Country                                                    ECUADOR\n",
       "Docket AOR                                    Buffalo Area of Responsibility\n",
       "Apprehension State                                                       NaN\n",
       "Apprehension County                                                      NaN\n",
       "Case Status                             8-Excluded/Removed - Inadmissibility\n",
       "Gender                                                                  Male\n",
       "Birth Country                                                        ECUADOR\n",
       "Citizenship Country                                                  ECUADOR\n",
       "Birth Date                                                 (b)(6), (b)(7)(C)\n",
       "Birth Year                                                              2000\n",
       "Entry Status                                                      PWA Mexico\n",
       "Entry Date                                               2000-11-23 00:00:00\n",
       "MSC NCIC Charge Code                                                     NaN\n",
       "MSC Charge Date                                                          NaN\n",
       "MSC Criminal Charge Status                                               NaN\n",
       "MSC Criminal Charge Status Code                                          NaN\n",
       "MSC Conviction Date                                                      NaN\n",
       "Case Threat Level                                                        NaN\n",
       "Case Criminality                                3 Other Immigration Violator\n",
       "Felon                                                Not an Aggravated Felon\n",
       "Processing Disposition                        Expedited Removal - Per 212(F)\n",
       "Case Category                                         [8F] Expedited Removal\n",
       "Final Program                                                  Border Patrol\n",
       "Final Program Code                                                        BP\n",
       "Case Category Time of Arrest                                             NaN\n",
       "Latest Arrest Program Current                                  Border Patrol\n",
       "Latest Arrest Program Current Code                                        BP\n",
       "Latest Person Apprehension Date                          2025-05-05 20:41:27\n",
       "Final Order Yes No                                                       YES\n",
       "Final Order Date                                         2025-05-06 00:00:00\n",
       "Final Charge Code                                                       I7A1\n",
       "Final Charge Section Code                                           212a7AiI\n",
       "Prior Deport Yes No                                                       NO\n",
       "Alien File Number                               (b)(6), (b)(7)(C), (b)(7)(E)\n",
       "EID Case ID                                     (b)(6), (b)(7)(C), (b)(7)(E)\n",
       "EID Subject ID                                  (b)(6), (b)(7)(C), (b)(7)(E)\n",
       "Unique Identifier                   83a3429763ed7202f87045fee870e1b9cfddd8fe\n",
       "age                                                                       25\n",
       "age_group                                                              21-30\n",
       "days_usa                                                              8944.0"
      ]
     },
     "execution_count": 47,
     "metadata": {},
     "output_type": "execute_result"
    }
   ],
   "source": [
    "deportationsecu_trump[deportationsecu_trump[\"Unique Identifier\"] == \"83a3429763ed7202f87045fee870e1b9cfddd8fe\"].T"
   ]
  },
  {
   "cell_type": "code",
   "execution_count": 48,
   "id": "ec5f9d77-61fb-42a8-9e06-b112b618d236",
   "metadata": {},
   "outputs": [
    {
     "data": {
      "text/plain": [
       "Departed Date\n",
       "2025-01-28    192\n",
       "2025-02-04    173\n",
       "2025-04-22    141\n",
       "2025-04-08    129\n",
       "2025-05-20    127\n",
       "2025-05-06    127\n",
       "2025-04-29    125\n",
       "2025-02-20    124\n",
       "2025-02-27    124\n",
       "2025-04-15    122\n",
       "2025-02-11    121\n",
       "2025-03-25    116\n",
       "2025-01-22    111\n",
       "2025-05-13    110\n",
       "2025-06-24    106\n",
       "2025-03-18    103\n",
       "2025-03-05    102\n",
       "2025-06-05     94\n",
       "2025-01-23     93\n",
       "2025-01-30     92\n",
       "2025-06-10     88\n",
       "2025-05-27     87\n",
       "2025-03-11     84\n",
       "2025-06-03     81\n",
       "2025-02-13     79\n",
       "2025-06-19     77\n",
       "2025-06-17     76\n",
       "2025-03-06     60\n",
       "2025-03-27     55\n",
       "2025-04-01     50\n",
       "2025-02-06     47\n",
       "2025-06-12     46\n",
       "2025-02-12     33\n",
       "2025-05-29     31\n",
       "2025-06-26     22\n",
       "2025-05-22     20\n",
       "2025-02-08     12\n",
       "2025-01-31     11\n",
       "2025-02-10     10\n",
       "2025-06-04      9\n",
       "2025-06-23      9\n",
       "2025-02-28      9\n",
       "2025-04-07      9\n",
       "2025-02-07      9\n",
       "2025-05-05      8\n",
       "2025-02-03      8\n",
       "2025-04-30      8\n",
       "2025-03-04      8\n",
       "2025-04-05      7\n",
       "2025-03-03      7\n",
       "2025-02-16      7\n",
       "2025-01-29      7\n",
       "2025-02-18      6\n",
       "2025-02-25      6\n",
       "2025-02-17      6\n",
       "2025-05-07      6\n",
       "2025-03-01      6\n",
       "2025-06-21      6\n",
       "2025-06-02      6\n",
       "2025-05-03      6\n",
       "2025-05-04      5\n",
       "2025-04-02      5\n",
       "2025-03-29      5\n",
       "2025-04-27      5\n",
       "2025-05-12      5\n",
       "2025-03-26      5\n",
       "2025-06-22      5\n",
       "2025-03-14      5\n",
       "2025-02-02      5\n",
       "2025-03-08      5\n",
       "2025-02-19      4\n",
       "2025-02-22      4\n",
       "2025-06-14      4\n",
       "2025-05-14      4\n",
       "2025-03-02      4\n",
       "2025-03-23      4\n",
       "2025-04-17      4\n",
       "2025-05-02      4\n",
       "2025-03-07      4\n",
       "2025-05-28      4\n",
       "2025-02-23      4\n",
       "2025-02-05      4\n",
       "2025-01-21      4\n",
       "2025-06-09      4\n",
       "2025-03-21      4\n",
       "2025-03-22      4\n",
       "2025-02-15      3\n",
       "2025-06-16      3\n",
       "2025-05-15      3\n",
       "2025-06-11      3\n",
       "2025-05-19      3\n",
       "2025-02-26      3\n",
       "2025-05-21      3\n",
       "2025-04-14      3\n",
       "2025-03-10      3\n",
       "2025-04-06      3\n",
       "2025-03-13      3\n",
       "2025-06-13      2\n",
       "2025-05-26      2\n",
       "2025-05-11      2\n",
       "2025-06-08      2\n",
       "2025-05-25      2\n",
       "2025-01-20      2\n",
       "2025-05-09      2\n",
       "2025-04-18      2\n",
       "2025-02-24      2\n",
       "2025-03-17      2\n",
       "2025-02-21      2\n",
       "2025-05-08      2\n",
       "2025-03-24      2\n",
       "2025-04-09      2\n",
       "2025-02-01      2\n",
       "2025-03-12      2\n",
       "2025-04-16      2\n",
       "2025-04-19      2\n",
       "2025-04-20      2\n",
       "2025-04-25      2\n",
       "2025-01-24      2\n",
       "2025-03-09      2\n",
       "2025-06-20      1\n",
       "2025-01-27      1\n",
       "2025-06-18      1\n",
       "2025-02-09      1\n",
       "2025-02-14      1\n",
       "2025-01-26      1\n",
       "2025-01-25      1\n",
       "2025-06-25      1\n",
       "2025-03-19      1\n",
       "2025-03-15      1\n",
       "2025-03-16      1\n",
       "2025-06-06      1\n",
       "2025-03-28      1\n",
       "2025-03-30      1\n",
       "2025-04-04      1\n",
       "2025-04-12      1\n",
       "2025-05-24      1\n",
       "2025-05-23      1\n",
       "2025-04-21      1\n",
       "2025-05-18      1\n",
       "2025-04-28      1\n",
       "2025-05-01      1\n",
       "2025-04-03      1\n",
       "Name: count, dtype: int64"
      ]
     },
     "execution_count": 48,
     "metadata": {},
     "output_type": "execute_result"
    }
   ],
   "source": [
    "deportationsecu_trump[\"Departed Date\"].dt.date.value_counts()"
   ]
  },
  {
   "cell_type": "code",
   "execution_count": 49,
   "id": "587c6fa4-5977-481d-9ce9-b9b577168cac",
   "metadata": {},
   "outputs": [
    {
     "data": {
      "text/plain": [
       "Latest Person Apprehension Date\n",
       "2025    122\n",
       "2024     70\n",
       "Name: count, dtype: int64"
      ]
     },
     "execution_count": 49,
     "metadata": {},
     "output_type": "execute_result"
    }
   ],
   "source": [
    "deportationsecu_trump[deportationsecu_trump[\"Departed Date\"] == \"2025-01-28\"][\"Latest Person Apprehension Date\"].dt.year.value_counts()"
   ]
  },
  {
   "cell_type": "code",
   "execution_count": 50,
   "id": "519caada-6e2e-4ed8-ae29-d419267a29ec",
   "metadata": {},
   "outputs": [
    {
     "data": {
      "text/plain": [
       "Case Category\n",
       "[8C] Excludable / Inadmissible - Administrative Final Order Issued             1548\n",
       "[8F] Expedited Removal                                                          952\n",
       "[8G] Expedited Removal - Credible Fear Referral                                 811\n",
       "[16] Reinstated Final Order                                                     328\n",
       "[3] Deportable - Administratively Final Order                                    68\n",
       "[11] Administrative Deportation / Removal                                        20\n",
       "[1A] Voluntary Departure - Un-Expired and Un-Extended Departure Period           15\n",
       "[8H] Expedited Removal - Status Claim Referral                                    7\n",
       "[2A] Deportable - Under Adjudication by IJ                                        5\n",
       "[10] Visa Waiver Deportation / Removal                                            4\n",
       "[8B] Excludable / Inadmissible - Under Adjudication by IJ                         3\n",
       "[9] VR Under Safeguards                                                           2\n",
       "[8A] Excludable / Inadmissible - Hearing Not Commenced                            2\n",
       "[8K] Expedited Removal Terminated due to Credible Fear Finding / NTA Issued       2\n",
       "[5D] Final Order of Deportation / Removal - Deferred Action Granted               1\n",
       "Name: count, dtype: int64"
      ]
     },
     "execution_count": 50,
     "metadata": {},
     "output_type": "execute_result"
    }
   ],
   "source": [
    "deportationsecu_trump[\"Case Category\"].value_counts()"
   ]
  },
  {
   "cell_type": "code",
   "execution_count": 51,
   "id": "58b6f241-1751-4e8c-a04f-7e5cbfc3a24f",
   "metadata": {},
   "outputs": [
    {
     "data": {
      "text/plain": [
       "Departure Country\n",
       "ECUADOR                   3663\n",
       "PANAMA                      40\n",
       "MEXICO                      26\n",
       "COLOMBIA                    18\n",
       "VENEZUELA                    6\n",
       "UNKNOWN                      3\n",
       "BRITISH VIRGIN ISLANDS       2\n",
       "NICARAGUA                    2\n",
       "SPAIN                        1\n",
       "CUBA                         1\n",
       "ITALY                        1\n",
       "PAKISTAN                     1\n",
       "HONDURAS                     1\n",
       "BRAZIL                       1\n",
       "EAST TIMOR                   1\n",
       "EL SALVADOR                  1\n",
       "Name: count, dtype: int64"
      ]
     },
     "execution_count": 51,
     "metadata": {},
     "output_type": "execute_result"
    }
   ],
   "source": [
    "deportationsecu_trump[\"Departure Country\"].value_counts()"
   ]
  },
  {
   "cell_type": "code",
   "execution_count": 52,
   "id": "dd87392d-b9ad-49d0-8deb-5e9f4cafff2a",
   "metadata": {
    "scrolled": true
   },
   "outputs": [
    {
     "data": {
      "text/html": [
       "<div>\n",
       "<style scoped>\n",
       "    .dataframe tbody tr th:only-of-type {\n",
       "        vertical-align: middle;\n",
       "    }\n",
       "\n",
       "    .dataframe tbody tr th {\n",
       "        vertical-align: top;\n",
       "    }\n",
       "\n",
       "    .dataframe thead th {\n",
       "        text-align: right;\n",
       "    }\n",
       "</style>\n",
       "<table border=\"1\" class=\"dataframe\">\n",
       "  <thead>\n",
       "    <tr style=\"text-align: right;\">\n",
       "      <th></th>\n",
       "      <th>3615</th>\n",
       "    </tr>\n",
       "  </thead>\n",
       "  <tbody>\n",
       "    <tr>\n",
       "      <th>index</th>\n",
       "      <td>139506</td>\n",
       "    </tr>\n",
       "    <tr>\n",
       "      <th>Departed Date</th>\n",
       "      <td>2025-06-19 00:00:00</td>\n",
       "    </tr>\n",
       "    <tr>\n",
       "      <th>Port of Departure</th>\n",
       "      <td>HARLINGEN, TX, POE</td>\n",
       "    </tr>\n",
       "    <tr>\n",
       "      <th>Departure Country</th>\n",
       "      <td>EL SALVADOR</td>\n",
       "    </tr>\n",
       "    <tr>\n",
       "      <th>Docket AOR</th>\n",
       "      <td>New Orleans Area of Responsibility</td>\n",
       "    </tr>\n",
       "    <tr>\n",
       "      <th>Apprehension State</th>\n",
       "      <td>LOUISIANA</td>\n",
       "    </tr>\n",
       "    <tr>\n",
       "      <th>Apprehension County</th>\n",
       "      <td>NaN</td>\n",
       "    </tr>\n",
       "    <tr>\n",
       "      <th>Case Status</th>\n",
       "      <td>6-Deported/Removed - Deportability</td>\n",
       "    </tr>\n",
       "    <tr>\n",
       "      <th>Gender</th>\n",
       "      <td>Male</td>\n",
       "    </tr>\n",
       "    <tr>\n",
       "      <th>Birth Country</th>\n",
       "      <td>ECUADOR</td>\n",
       "    </tr>\n",
       "    <tr>\n",
       "      <th>Citizenship Country</th>\n",
       "      <td>ECUADOR</td>\n",
       "    </tr>\n",
       "    <tr>\n",
       "      <th>Birth Date</th>\n",
       "      <td>(b)(6), (b)(7)(C)</td>\n",
       "    </tr>\n",
       "    <tr>\n",
       "      <th>Birth Year</th>\n",
       "      <td>1972</td>\n",
       "    </tr>\n",
       "    <tr>\n",
       "      <th>Entry Status</th>\n",
       "      <td>Not  Applicable</td>\n",
       "    </tr>\n",
       "    <tr>\n",
       "      <th>Entry Date</th>\n",
       "      <td>2016-05-16 00:00:00</td>\n",
       "    </tr>\n",
       "    <tr>\n",
       "      <th>MSC NCIC Charge Code</th>\n",
       "      <td>3531</td>\n",
       "    </tr>\n",
       "    <tr>\n",
       "      <th>MSC Charge Date</th>\n",
       "      <td>2016-05-13 00:00:00</td>\n",
       "    </tr>\n",
       "    <tr>\n",
       "      <th>MSC Criminal Charge Status</th>\n",
       "      <td>Convicted</td>\n",
       "    </tr>\n",
       "    <tr>\n",
       "      <th>MSC Criminal Charge Status Code</th>\n",
       "      <td>C</td>\n",
       "    </tr>\n",
       "    <tr>\n",
       "      <th>MSC Conviction Date</th>\n",
       "      <td>2016-12-06 00:00:00</td>\n",
       "    </tr>\n",
       "    <tr>\n",
       "      <th>Case Threat Level</th>\n",
       "      <td>1.0</td>\n",
       "    </tr>\n",
       "    <tr>\n",
       "      <th>Case Criminality</th>\n",
       "      <td>1 Convicted Criminal</td>\n",
       "    </tr>\n",
       "    <tr>\n",
       "      <th>Felon</th>\n",
       "      <td>Not an Aggravated Felon</td>\n",
       "    </tr>\n",
       "    <tr>\n",
       "      <th>Processing Disposition</th>\n",
       "      <td>ADMINISTRATIVE DEPORTATION I-851/I-851A</td>\n",
       "    </tr>\n",
       "    <tr>\n",
       "      <th>Case Category</th>\n",
       "      <td>[11] Administrative Deportation / Removal</td>\n",
       "    </tr>\n",
       "    <tr>\n",
       "      <th>Final Program</th>\n",
       "      <td>ERO Criminal Alien Program</td>\n",
       "    </tr>\n",
       "    <tr>\n",
       "      <th>Final Program Code</th>\n",
       "      <td>CAP</td>\n",
       "    </tr>\n",
       "    <tr>\n",
       "      <th>Case Category Time of Arrest</th>\n",
       "      <td>11</td>\n",
       "    </tr>\n",
       "    <tr>\n",
       "      <th>Latest Arrest Program Current</th>\n",
       "      <td>ERO Criminal Alien Program</td>\n",
       "    </tr>\n",
       "    <tr>\n",
       "      <th>Latest Arrest Program Current Code</th>\n",
       "      <td>CAP</td>\n",
       "    </tr>\n",
       "    <tr>\n",
       "      <th>Latest Person Apprehension Date</th>\n",
       "      <td>2025-06-09 09:32:23</td>\n",
       "    </tr>\n",
       "    <tr>\n",
       "      <th>Final Order Yes No</th>\n",
       "      <td>YES</td>\n",
       "    </tr>\n",
       "    <tr>\n",
       "      <th>Final Order Date</th>\n",
       "      <td>2025-06-09 00:00:00</td>\n",
       "    </tr>\n",
       "    <tr>\n",
       "      <th>Final Charge Code</th>\n",
       "      <td>R2A3</td>\n",
       "    </tr>\n",
       "    <tr>\n",
       "      <th>Final Charge Section Code</th>\n",
       "      <td>237a2Aiii</td>\n",
       "    </tr>\n",
       "    <tr>\n",
       "      <th>Prior Deport Yes No</th>\n",
       "      <td>NO</td>\n",
       "    </tr>\n",
       "    <tr>\n",
       "      <th>Alien File Number</th>\n",
       "      <td>(b)(6), (b)(7)(C), (b)(7)(E)</td>\n",
       "    </tr>\n",
       "    <tr>\n",
       "      <th>EID Case ID</th>\n",
       "      <td>(b)(6), (b)(7)(C), (b)(7)(E)</td>\n",
       "    </tr>\n",
       "    <tr>\n",
       "      <th>EID Subject ID</th>\n",
       "      <td>(b)(6), (b)(7)(C), (b)(7)(E)</td>\n",
       "    </tr>\n",
       "    <tr>\n",
       "      <th>Unique Identifier</th>\n",
       "      <td>f370e33ad0494000e3d1055ecd9cfcb3dd2fbaa0</td>\n",
       "    </tr>\n",
       "    <tr>\n",
       "      <th>age</th>\n",
       "      <td>53</td>\n",
       "    </tr>\n",
       "    <tr>\n",
       "      <th>age_group</th>\n",
       "      <td>51-60</td>\n",
       "    </tr>\n",
       "    <tr>\n",
       "      <th>days_usa</th>\n",
       "      <td>3321.0</td>\n",
       "    </tr>\n",
       "  </tbody>\n",
       "</table>\n",
       "</div>"
      ],
      "text/plain": [
       "                                                                         3615\n",
       "index                                                                  139506\n",
       "Departed Date                                             2025-06-19 00:00:00\n",
       "Port of Departure                                          HARLINGEN, TX, POE\n",
       "Departure Country                                                 EL SALVADOR\n",
       "Docket AOR                                 New Orleans Area of Responsibility\n",
       "Apprehension State                                                  LOUISIANA\n",
       "Apprehension County                                                       NaN\n",
       "Case Status                                6-Deported/Removed - Deportability\n",
       "Gender                                                                   Male\n",
       "Birth Country                                                         ECUADOR\n",
       "Citizenship Country                                                   ECUADOR\n",
       "Birth Date                                                  (b)(6), (b)(7)(C)\n",
       "Birth Year                                                               1972\n",
       "Entry Status                                                  Not  Applicable\n",
       "Entry Date                                                2016-05-16 00:00:00\n",
       "MSC NCIC Charge Code                                                     3531\n",
       "MSC Charge Date                                           2016-05-13 00:00:00\n",
       "MSC Criminal Charge Status                                          Convicted\n",
       "MSC Criminal Charge Status Code                                             C\n",
       "MSC Conviction Date                                       2016-12-06 00:00:00\n",
       "Case Threat Level                                                         1.0\n",
       "Case Criminality                                         1 Convicted Criminal\n",
       "Felon                                                 Not an Aggravated Felon\n",
       "Processing Disposition                ADMINISTRATIVE DEPORTATION I-851/I-851A\n",
       "Case Category                       [11] Administrative Deportation / Removal\n",
       "Final Program                                      ERO Criminal Alien Program\n",
       "Final Program Code                                                        CAP\n",
       "Case Category Time of Arrest                                               11\n",
       "Latest Arrest Program Current                      ERO Criminal Alien Program\n",
       "Latest Arrest Program Current Code                                        CAP\n",
       "Latest Person Apprehension Date                           2025-06-09 09:32:23\n",
       "Final Order Yes No                                                        YES\n",
       "Final Order Date                                          2025-06-09 00:00:00\n",
       "Final Charge Code                                                        R2A3\n",
       "Final Charge Section Code                                           237a2Aiii\n",
       "Prior Deport Yes No                                                        NO\n",
       "Alien File Number                                (b)(6), (b)(7)(C), (b)(7)(E)\n",
       "EID Case ID                                      (b)(6), (b)(7)(C), (b)(7)(E)\n",
       "EID Subject ID                                   (b)(6), (b)(7)(C), (b)(7)(E)\n",
       "Unique Identifier                    f370e33ad0494000e3d1055ecd9cfcb3dd2fbaa0\n",
       "age                                                                        53\n",
       "age_group                                                               51-60\n",
       "days_usa                                                               3321.0"
      ]
     },
     "execution_count": 52,
     "metadata": {},
     "output_type": "execute_result"
    }
   ],
   "source": [
    "deportationsecu_trump[deportationsecu_trump[\"Departure Country\"] == \"EL SALVADOR\"].T"
   ]
  },
  {
   "cell_type": "code",
   "execution_count": 53,
   "id": "50a8d683-b930-428b-8e29-7179b4bf6cec",
   "metadata": {},
   "outputs": [
    {
     "data": {
      "text/html": [
       "<div>\n",
       "<style scoped>\n",
       "    .dataframe tbody tr th:only-of-type {\n",
       "        vertical-align: middle;\n",
       "    }\n",
       "\n",
       "    .dataframe tbody tr th {\n",
       "        vertical-align: top;\n",
       "    }\n",
       "\n",
       "    .dataframe thead th {\n",
       "        text-align: right;\n",
       "    }\n",
       "</style>\n",
       "<table border=\"1\" class=\"dataframe\">\n",
       "  <thead>\n",
       "    <tr style=\"text-align: right;\">\n",
       "      <th></th>\n",
       "      <th>250185</th>\n",
       "    </tr>\n",
       "  </thead>\n",
       "  <tbody>\n",
       "    <tr>\n",
       "      <th>Apprehension Date</th>\n",
       "      <td>2025-06-09 09:32:23</td>\n",
       "    </tr>\n",
       "    <tr>\n",
       "      <th>Apprehension State</th>\n",
       "      <td>LOUISIANA</td>\n",
       "    </tr>\n",
       "    <tr>\n",
       "      <th>Apprehension County</th>\n",
       "      <td>NaN</td>\n",
       "    </tr>\n",
       "    <tr>\n",
       "      <th>Apprehension AOR</th>\n",
       "      <td>New Orleans Area of Responsibility</td>\n",
       "    </tr>\n",
       "    <tr>\n",
       "      <th>Final Program</th>\n",
       "      <td>ERO Criminal Alien Program</td>\n",
       "    </tr>\n",
       "    <tr>\n",
       "      <th>Final Program Group</th>\n",
       "      <td>ICE</td>\n",
       "    </tr>\n",
       "    <tr>\n",
       "      <th>Apprehension Method</th>\n",
       "      <td>CAP Federal Incarceration</td>\n",
       "    </tr>\n",
       "    <tr>\n",
       "      <th>Apprehension Criminality</th>\n",
       "      <td>1 Convicted Criminal</td>\n",
       "    </tr>\n",
       "    <tr>\n",
       "      <th>Case Status</th>\n",
       "      <td>6-Deported/Removed - Deportability</td>\n",
       "    </tr>\n",
       "    <tr>\n",
       "      <th>Case Category</th>\n",
       "      <td>[11] Administrative Deportation / Removal</td>\n",
       "    </tr>\n",
       "    <tr>\n",
       "      <th>Departed Date</th>\n",
       "      <td>2025-06-19 00:00:00</td>\n",
       "    </tr>\n",
       "    <tr>\n",
       "      <th>Departure Country</th>\n",
       "      <td>EL SALVADOR</td>\n",
       "    </tr>\n",
       "    <tr>\n",
       "      <th>Final Order Yes No</th>\n",
       "      <td>YES</td>\n",
       "    </tr>\n",
       "    <tr>\n",
       "      <th>Final Order Date</th>\n",
       "      <td>2025-06-09 00:00:00</td>\n",
       "    </tr>\n",
       "    <tr>\n",
       "      <th>Birth Date</th>\n",
       "      <td>(b)(6), (b)(7)(C)</td>\n",
       "    </tr>\n",
       "    <tr>\n",
       "      <th>Birth Year</th>\n",
       "      <td>1972</td>\n",
       "    </tr>\n",
       "    <tr>\n",
       "      <th>Citizenship Country</th>\n",
       "      <td>ECUADOR</td>\n",
       "    </tr>\n",
       "    <tr>\n",
       "      <th>Gender</th>\n",
       "      <td>Male</td>\n",
       "    </tr>\n",
       "    <tr>\n",
       "      <th>Apprehension Site Landmark</th>\n",
       "      <td>FEDERAL CORRECTIONAL INSTITUTE - OAKDALE</td>\n",
       "    </tr>\n",
       "    <tr>\n",
       "      <th>Alien File Number</th>\n",
       "      <td>(b)(6), (b)(7)(C)</td>\n",
       "    </tr>\n",
       "    <tr>\n",
       "      <th>EID Case ID</th>\n",
       "      <td>(b)(6), (b)(7)(C), (b)(7)(E)</td>\n",
       "    </tr>\n",
       "    <tr>\n",
       "      <th>EID Subject ID</th>\n",
       "      <td>(b)(6), (b)(7)(C), (b)(7)(E)</td>\n",
       "    </tr>\n",
       "    <tr>\n",
       "      <th>Unique Identifier</th>\n",
       "      <td>f370e33ad0494000e3d1055ecd9cfcb3dd2fbaa0</td>\n",
       "    </tr>\n",
       "  </tbody>\n",
       "</table>\n",
       "</div>"
      ],
      "text/plain": [
       "                                                               250185\n",
       "Apprehension Date                                 2025-06-09 09:32:23\n",
       "Apprehension State                                          LOUISIANA\n",
       "Apprehension County                                               NaN\n",
       "Apprehension AOR                   New Orleans Area of Responsibility\n",
       "Final Program                              ERO Criminal Alien Program\n",
       "Final Program Group                                               ICE\n",
       "Apprehension Method                         CAP Federal Incarceration\n",
       "Apprehension Criminality                         1 Convicted Criminal\n",
       "Case Status                        6-Deported/Removed - Deportability\n",
       "Case Category               [11] Administrative Deportation / Removal\n",
       "Departed Date                                     2025-06-19 00:00:00\n",
       "Departure Country                                         EL SALVADOR\n",
       "Final Order Yes No                                                YES\n",
       "Final Order Date                                  2025-06-09 00:00:00\n",
       "Birth Date                                          (b)(6), (b)(7)(C)\n",
       "Birth Year                                                       1972\n",
       "Citizenship Country                                           ECUADOR\n",
       "Gender                                                           Male\n",
       "Apprehension Site Landmark   FEDERAL CORRECTIONAL INSTITUTE - OAKDALE\n",
       "Alien File Number                                   (b)(6), (b)(7)(C)\n",
       "EID Case ID                              (b)(6), (b)(7)(C), (b)(7)(E)\n",
       "EID Subject ID                           (b)(6), (b)(7)(C), (b)(7)(E)\n",
       "Unique Identifier            f370e33ad0494000e3d1055ecd9cfcb3dd2fbaa0"
      ]
     },
     "execution_count": 53,
     "metadata": {},
     "output_type": "execute_result"
    }
   ],
   "source": [
    "arrests[arrests[\"Unique Identifier\"] == \"f370e33ad0494000e3d1055ecd9cfcb3dd2fbaa0\"].T"
   ]
  },
  {
   "cell_type": "code",
   "execution_count": 54,
   "id": "2b697c8c-c278-4ad3-86e3-945ddec747cf",
   "metadata": {},
   "outputs": [
    {
     "data": {
      "text/plain": [
       "Case Criminality            \n",
       "3 Other Immigration Violator    39\n",
       "1 Convicted Criminal             1\n",
       "Name: count, dtype: int64"
      ]
     },
     "execution_count": 54,
     "metadata": {},
     "output_type": "execute_result"
    }
   ],
   "source": [
    "deportationsecu_trump[deportationsecu_trump[\"Departure Country\"] == \"PANAMA\"][[\"Case Criminality\"]].value_counts()"
   ]
  },
  {
   "cell_type": "code",
   "execution_count": 55,
   "id": "00d28eaf-460d-4f25-b977-99874d8feb08",
   "metadata": {},
   "outputs": [],
   "source": [
    "deported_data = deportationsecu_trump[[\"Gender\", \"age_group\", \"Case Criminality\"]]"
   ]
  },
  {
   "cell_type": "code",
   "execution_count": 56,
   "id": "7c7e9108-0b66-4525-86cc-73ca8b35cd9a",
   "metadata": {},
   "outputs": [],
   "source": [
    "deported_data.to_csv(\"processed_data/deport_data.csv\", index=False)"
   ]
  }
 ],
 "metadata": {
  "kernelspec": {
   "display_name": "Python 3 (ipykernel)",
   "language": "python",
   "name": "python3"
  },
  "language_info": {
   "codemirror_mode": {
    "name": "ipython",
    "version": 3
   },
   "file_extension": ".py",
   "mimetype": "text/x-python",
   "name": "python",
   "nbconvert_exporter": "python",
   "pygments_lexer": "ipython3",
   "version": "3.12.10"
  }
 },
 "nbformat": 4,
 "nbformat_minor": 5
}
